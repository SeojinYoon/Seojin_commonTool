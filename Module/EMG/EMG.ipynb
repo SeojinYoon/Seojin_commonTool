{
 "cells": [
  {
   "cell_type": "code",
   "execution_count": 5,
   "metadata": {},
   "outputs": [],
   "source": [
    "import numpy as np\n",
    "import sys\n",
    "sys.path.append(\"C:\\\\Users\\\\clmnlab\\\\Documents\\\\statistics_sj2\")\n",
    "\n",
    "import time"
   ]
  },
  {
   "cell_type": "code",
   "execution_count": 42,
   "metadata": {},
   "outputs": [
    {
     "data": {
      "text/plain": [
       "time.struct_time(tm_year=2022, tm_mon=1, tm_mday=4, tm_hour=12, tm_min=47, tm_sec=23, tm_wday=1, tm_yday=4, tm_isdst=0)"
      ]
     },
     "execution_count": 42,
     "metadata": {},
     "output_type": "execute_result"
    }
   ],
   "source": [
    "time.localtime()"
   ]
  },
  {
   "cell_type": "code",
   "execution_count": 6,
   "metadata": {},
   "outputs": [],
   "source": [
    "from Module import sj_timer"
   ]
  },
  {
   "cell_type": "code",
   "execution_count": 18,
   "metadata": {
    "scrolled": true
   },
   "outputs": [],
   "source": [
    "s = !tasklist /v | find \"notepad\""
   ]
  },
  {
   "cell_type": "code",
   "execution_count": 19,
   "metadata": {
    "scrolled": true
   },
   "outputs": [
    {
     "data": {
      "text/plain": [
       "['notepad.exe',\n",
       " '',\n",
       " ' 8916 Console',\n",
       " '',\n",
       " '  1     20,928 K Running',\n",
       " 'DESKTOP-CSHDE83\\\\clmnlab',\n",
       " '',\n",
       " '',\n",
       " '      0:00:00 new.bat - Windows 메모장',\n",
       " '',\n",
       " '',\n",
       " '',\n",
       " '',\n",
       " '   ']"
      ]
     },
     "execution_count": 19,
     "metadata": {},
     "output_type": "execute_result"
    }
   ],
   "source": [
    "s[0].split(\"         \")"
   ]
  },
  {
   "cell_type": "code",
   "execution_count": 23,
   "metadata": {},
   "outputs": [],
   "source": [
    "import sj_timer\n",
    "from pynput.keyboard import Key, Controller\n",
    "\n",
    "keyboard = Controller()"
   ]
  },
  {
   "cell_type": "code",
   "execution_count": 40,
   "metadata": {},
   "outputs": [],
   "source": [
    "def start_emg_recording():\n",
    "    print(\"call start!\")\n",
    "    \n",
    "    key1 = Key.ctrl\n",
    "    key2 = \"a\"\n",
    "    \n",
    "    keyboard.press(key1)\n",
    "    keyboard.press(key2)\n",
    "    \n",
    "    keyboard.release(key1)\n",
    "    keyboard.release(key2)\n",
    "\n",
    "def stop_emg_recording():\n",
    "    print(\"call stop!!\")\n",
    "    \n",
    "    key1 = Key.ctrl\n",
    "    key2 = \"s\"\n",
    "    \n",
    "    keyboard.press(key1)\n",
    "    keyboard.press(key2)\n",
    "    \n",
    "    keyboard.release(key1)\n",
    "    keyboard.release(key2)\n",
    "    "
   ]
  },
  {
   "cell_type": "code",
   "execution_count": 41,
   "metadata": {},
   "outputs": [
    {
     "name": "stdout",
     "output_type": "stream",
     "text": [
      "call start!\n",
      "call stop!!\n"
     ]
    }
   ],
   "source": [
    "a = sj_timer.Direct_fire_timer()\n",
    "a.start(2, start_emg_recording)\n",
    "\n",
    "b = sj_timer.Direct_fire_timer()\n",
    "b.start(10, stop_emg_recording)"
   ]
  },
  {
   "cell_type": "code",
   "execution_count": 20,
   "metadata": {},
   "outputs": [],
   "source": [
    "timer = sj_timer.RepeatedTimer(interval = 1, function = a)"
   ]
  },
  {
   "cell_type": "code",
   "execution_count": 21,
   "metadata": {},
   "outputs": [],
   "source": [
    "timer.stop()"
   ]
  }
 ],
 "metadata": {
  "kernelspec": {
   "display_name": "Python 3",
   "language": "python",
   "name": "python3"
  },
  "language_info": {
   "codemirror_mode": {
    "name": "ipython",
    "version": 3
   },
   "file_extension": ".py",
   "mimetype": "text/x-python",
   "name": "python",
   "nbconvert_exporter": "python",
   "pygments_lexer": "ipython3",
   "version": "3.8.5"
  }
 },
 "nbformat": 4,
 "nbformat_minor": 4
}
