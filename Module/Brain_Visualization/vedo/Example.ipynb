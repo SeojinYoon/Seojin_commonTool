{
 "cells": [
  {
   "cell_type": "markdown",
   "id": "157382e3",
   "metadata": {},
   "source": [
    "# Common Libraries"
   ]
  },
  {
   "cell_type": "code",
   "execution_count": 1,
   "id": "a20294ff",
   "metadata": {},
   "outputs": [],
   "source": [
    "import numpy as np\n",
    "import os\n",
    "import glob\n",
    "import sys\n",
    "\n",
    "sys.path.append(\"../\")\n",
    "\n",
    "# Custom Libraries\n",
    "from afni_extension import set_afni_abin\n",
    "from sj_brain_vis import show_clusterize_brain\n",
    "\n",
    "set_afni_abin(\"/Users/clmn/abin/afni\")"
   ]
  },
  {
   "cell_type": "code",
   "execution_count": 2,
   "id": "0254c5b2",
   "metadata": {},
   "outputs": [],
   "source": [
    "model_dir_path = \"/Users/clmn/Downloads/vedo_vis/model\"\n",
    "\n",
    "is_paired_test = True\n",
    "model_param = \"st_c\" # st_r ts_c ts_r\n",
    "\n",
    "if is_paired_test:\n",
    "    stat_map_paths = sorted(glob.glob(os.path.join(model_dir_path, model_param, \"*paired*\")))\n",
    "else:\n",
    "    stat_map_paths = sorted(glob.glob(os.path.join(model_dir_path, model_param, \"*1samp*\")))\n",
    "\n",
    "if model_param.startswith(\"st\"):\n",
    "    pass\n",
    "else:\n",
    "    stat_map_paths = stat_map_paths[4:] + stat_map_paths[:4]"
   ]
  },
  {
   "cell_type": "code",
   "execution_count": 3,
   "id": "77e8dd34",
   "metadata": {},
   "outputs": [],
   "source": [
    "# Directory path for saving cluster result\n",
    "cluster_dir_path = \"/Users/clmn/Downloads/vedo_vis/brain_rois/clusters\"\n",
    "\n",
    "# Base brain mask - LPS+ coords(mni, spm)\n",
    "base_brain_nii_path = \"/Users/clmn/Downloads/vedo_dir/group_mask.nii\"\n",
    "\n",
    "# Brain roi path\n",
    "brain_roi_path = \"/Users/clmn/Downloads/vedo_vis/brain_rois\"\n",
    "\n",
    "# Plotting method\n",
    "cluster_plot_style = \"mesh\" # mesh, point\n",
    "\n",
    "# Clusterize params\n",
    "atlas_query_method = \"center\"\n",
    "n_datas = np.repeat(9, len(stat_map_paths))\n",
    "candidate_p_values = [0.05, 0.01, 0.005, 0.001, 0.0005, 0.0001]\n",
    "cluster_size = 40\n",
    "criteria_n_cluster = 6\n",
    "NN_level = 1\n",
    "thresholds = None"
   ]
  },
  {
   "cell_type": "code",
   "execution_count": 4,
   "id": "46d2e1ee",
   "metadata": {},
   "outputs": [
    {
     "name": "stdout",
     "output_type": "stream",
     "text": [
      "thresholds:  [None, 3.3553873313333966, 3.3553873313333966, 3.832518685344373, None, 5.041305433388365, 5.617410807356399, 5.617410807356399]\n",
      "base brain vtk path:  /Users/clmn/Downloads/vedo_vis/brain_rois/clusters/group_mask.vtk\n"
     ]
    }
   ],
   "source": [
    "show_clusterize_brain(\n",
    "    stat_map_paths = stat_map_paths,\n",
    "    cluster_dir_path = cluster_dir_path,\n",
    "    base_brain_nii_path = base_brain_nii_path,\n",
    "    brain_roi_path = brain_roi_path,\n",
    "    n_datas = n_datas,\n",
    "    cluster_plot_style = cluster_plot_style,\n",
    "    atlas_query_method = atlas_query_method,\n",
    "    thresholds = thresholds,\n",
    "    candidate_p_values = candidate_p_values,\n",
    "    cluster_size = cluster_size,\n",
    "    criteria_n_cluster = criteria_n_cluster,\n",
    "    NN_level = NN_level\n",
    ")"
   ]
  },
  {
   "cell_type": "code",
   "execution_count": null,
   "id": "606ae8d4",
   "metadata": {},
   "outputs": [],
   "source": []
  }
 ],
 "metadata": {
  "kernelspec": {
   "display_name": "visualizatin",
   "language": "python",
   "name": "visualizatin"
  },
  "language_info": {
   "codemirror_mode": {
    "name": "ipython",
    "version": 3
   },
   "file_extension": ".py",
   "mimetype": "text/x-python",
   "name": "python",
   "nbconvert_exporter": "python",
   "pygments_lexer": "ipython3",
   "version": "3.8.8"
  }
 },
 "nbformat": 4,
 "nbformat_minor": 5
}
