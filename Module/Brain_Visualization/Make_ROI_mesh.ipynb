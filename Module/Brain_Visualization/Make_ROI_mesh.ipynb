{
 "cells": [
  {
   "cell_type": "markdown",
   "id": "4d0df795",
   "metadata": {},
   "source": [
    "# Library"
   ]
  },
  {
   "cell_type": "code",
   "execution_count": 3,
   "id": "453d12dd",
   "metadata": {},
   "outputs": [],
   "source": [
    "import nibabel as nb\n",
    "import os\n",
    "import sys"
   ]
  },
  {
   "cell_type": "code",
   "execution_count": 5,
   "id": "5c9477ee",
   "metadata": {},
   "outputs": [],
   "source": [
    "sys.path.append(\"/Users/clmn/statistics_sj2/Module\")"
   ]
  },
  {
   "cell_type": "code",
   "execution_count": 7,
   "id": "d41f5aa6",
   "metadata": {},
   "outputs": [],
   "source": [
    "from sj_brain_mask import fan_roi_mask_manager\n",
    "from sj_brain_vis import make_mesh_fromRM, base_roi_keywords\n"
   ]
  },
  {
   "cell_type": "markdown",
   "id": "a1f3f12a",
   "metadata": {},
   "source": [
    "# Params"
   ]
  },
  {
   "cell_type": "code",
   "execution_count": 12,
   "id": "9e8888b0",
   "metadata": {},
   "outputs": [],
   "source": [
    "# Base brain mask - LPS+ coords(mni, spm)\n",
    "base_brain_nii_path = \"/Users/clmn/Downloads/vedo_vis/group_mask.nii\"\n",
    "\n",
    "# Brain roi path\n",
    "brain_roi_path = \"/Users/clmn/Downloads/vedo_vis/brain_rois\"\n",
    "fan_info_path = \"/Users/clmn/Downloads/vedo_vis/mask/Fan280/fan280_fullname.csv\"\n",
    "fan_mask_dir_path = \"/Users/clmn/Downloads/vedo_vis/mask/Fan280\"\n",
    "\n",
    "# Plotting method\n",
    "search_keywords = base_roi_keywords()\n"
   ]
  },
  {
   "cell_type": "markdown",
   "id": "dd22f64b",
   "metadata": {},
   "source": [
    "# ROI"
   ]
  },
  {
   "cell_type": "code",
   "execution_count": 14,
   "id": "dadf285d",
   "metadata": {},
   "outputs": [],
   "source": [
    "# ROI manager\n",
    "roi_manager = fan_roi_mask_manager(fan_info_path = fan_info_path, \n",
    "                                   mask_dir_path = fan_mask_dir_path, \n",
    "                                   reference_img = nb.load(base_brain_nii_path))\n",
    "\n",
    "# ROI vtks\n",
    "roi_vtk_files = make_mesh_fromRM(roi_manager = roi_manager,\n",
    "                                 search_keywords = search_keywords,\n",
    "                                 save_dir_path = brain_roi_path)"
   ]
  },
  {
   "cell_type": "code",
   "execution_count": null,
   "id": "56bc47a8",
   "metadata": {},
   "outputs": [],
   "source": []
  }
 ],
 "metadata": {
  "kernelspec": {
   "display_name": "seojin",
   "language": "python",
   "name": "seojin"
  },
  "language_info": {
   "codemirror_mode": {
    "name": "ipython",
    "version": 3
   },
   "file_extension": ".py",
   "mimetype": "text/x-python",
   "name": "python",
   "nbconvert_exporter": "python",
   "pygments_lexer": "ipython3",
   "version": "3.8.11"
  }
 },
 "nbformat": 4,
 "nbformat_minor": 5
}
