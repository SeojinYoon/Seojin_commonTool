{
 "cells": [
  {
   "cell_type": "markdown",
   "id": "5f056c00-a036-4488-89e2-6435091a5571",
   "metadata": {},
   "source": [
    "# Common Libraries"
   ]
  },
  {
   "cell_type": "code",
   "execution_count": 1,
   "id": "00256a2a-0ac8-42f7-88f7-2d951e030a98",
   "metadata": {},
   "outputs": [],
   "source": [
    "import os\n",
    "import sys\n",
    "import numpy as np\n",
    "import pandas as pd\n",
    "from pathlib import Path\n",
    "from glob import glob\n",
    "from collections import Counter"
   ]
  },
  {
   "cell_type": "markdown",
   "id": "455eb9b1-05d3-4fc8-9d6c-801c47d8a97a",
   "metadata": {},
   "source": [
    "# Custom Libraries"
   ]
  },
  {
   "cell_type": "code",
   "execution_count": 2,
   "id": "2f293a92-4305-47e7-af74-8568ced4b0d4",
   "metadata": {},
   "outputs": [],
   "source": [
    "sys.path.append(\"/home/seojin/Seojin_commonTool/Module\")\n",
    "\n",
    "from sj_file_system import copy_files"
   ]
  },
  {
   "cell_type": "markdown",
   "id": "9fcbf0a9-b9cf-4e23-b8b9-3b4f1937478a",
   "metadata": {},
   "source": [
    "# Paths"
   ]
  },
  {
   "cell_type": "code",
   "execution_count": 3,
   "id": "9ed15c13-b133-4ee2-8bed-08a656413292",
   "metadata": {},
   "outputs": [],
   "source": [
    "src_directory = \"/mnt/tmp\" \n",
    "dst_directory = \"/mnt/tmp2\""
   ]
  },
  {
   "cell_type": "markdown",
   "id": "7b608bdd-c3e4-42d6-90cf-3abe0b956c7f",
   "metadata": {},
   "source": [
    "# Filtering"
   ]
  },
  {
   "cell_type": "code",
   "execution_count": 4,
   "id": "be5fb416-2542-4596-8240-3426c7b8cf51",
   "metadata": {},
   "outputs": [],
   "source": [
    "src_file_paths = np.array(glob(src_directory + \"/*\"))\n",
    "src_file_paths = src_file_paths[[\"lost+found\" not in path for path in src_file_paths]]"
   ]
  },
  {
   "cell_type": "markdown",
   "id": "dadfe061-1863-406b-b09e-1ad1d3fac2b5",
   "metadata": {},
   "source": [
    "# Branch - directory, file"
   ]
  },
  {
   "cell_type": "code",
   "execution_count": 5,
   "id": "89c6a983-80a0-4c67-a868-a5277fe5d2a5",
   "metadata": {},
   "outputs": [],
   "source": [
    "is_directory = [os.path.isdir(path) for path in src_file_paths]\n",
    "directory_paths = src_file_paths[is_directory]\n",
    "file_paths = src_file_paths[np.logical_not(is_directory)]"
   ]
  },
  {
   "cell_type": "code",
   "execution_count": 12,
   "id": "828bfcb1-2bc8-46d4-be11-0a930fd30a8a",
   "metadata": {},
   "outputs": [],
   "source": [
    "from sj_file_system import copy_file"
   ]
  },
  {
   "cell_type": "code",
   "execution_count": 14,
   "id": "456ff2e8-0714-4eb5-84a0-ee5ba9b45c22",
   "metadata": {},
   "outputs": [
    {
     "name": "stdout",
     "output_type": "stream",
     "text": [
      "def copy_file(src_path, \n",
      "              dst_path, \n",
      "              password = None,\n",
      "              log_file_path = None,\n",
      "             ):\n",
      "    \"\"\"\n",
      "    copy file from src_path to dst_path\n",
      "    \n",
      "    :param src_path(string): source file path\n",
      "    :param dst_path(string): destination file path\n",
      "    :param password(string): password of current account\n",
      "    :param log_file_path(string): path for saving log\n",
      "    \n",
      "    return (string): result of copy process\n",
      "    \"\"\"\n",
      "    # Check source path\n",
      "    if not os.path.exists(src_path):\n",
      "        return \"No source file\"\n",
      "\n",
      "    # Check destination path \n",
      "    if os.path.exists(dst_path):\n",
      "        return \"destination file already exists\"        \n",
      "\n",
      "    # exec_command_withSudo\n",
      "    if type(password) == type(None):\n",
      "        exec_command(\"cp\", parameter_info = {\n",
      "            1 : src_path,\n",
      "            2 : dst_path,\n",
      "        })\n",
      "    else:\n",
      "        exec_command_withSudo(cmd, \n",
      "                              password = password, \n",
      "                              parameter_info = {\n",
      "                                  1 : src_path,\n",
      "                                  2 : dst_path,\n",
      "                              },\n",
      "                              pipeline_info = {\n",
      "                                  \">>\" : log_file_path,\n",
      "                              })\n",
      "\n",
      "    # Validation check\n",
      "    is_same = filecmp.cmp(src_path, dst_path, shallow=False)\n",
      "    if is_same:\n",
      "        result = \"Good\"\n",
      "    else:\n",
      "        result = \"Two contents are different\"\n",
      "    return result\n",
      "\n"
     ]
    }
   ],
   "source": [
    "import inspect\n",
    "\n",
    "print(inspect.getsource(copy_file))"
   ]
  },
  {
   "cell_type": "code",
   "execution_count": 13,
   "id": "43bb472d-616f-48c7-bdd4-08aa01fd393d",
   "metadata": {},
   "outputs": [
    {
     "data": {
      "text/plain": [
       "<function sj_file_system.copy_file(src_path, dst_path, password=None, log_file_path=None)>"
      ]
     },
     "execution_count": 13,
     "metadata": {},
     "output_type": "execute_result"
    }
   ],
   "source": [
    "copy_file()"
   ]
  },
  {
   "cell_type": "code",
   "execution_count": null,
   "id": "3a388cd8-d17f-4734-9884-169b70db0a55",
   "metadata": {},
   "outputs": [],
   "source": [
    "def copy_files(src_paths, \n",
    "               save_dir_path, \n",
    "               password = None,\n",
    "               log_file_path = None):\n",
    "    \"\"\"\n",
    "    Copy multiple files from src_paths to save_dir_path\n",
    "    \n",
    "    :param src_paths(list - string): source file paths\n",
    "    :param save_dir_path(string): destination directory path\n",
    "    :param password(string): password of current account\n",
    "    :param log_file_path(string): path for saving log\n",
    "    \n",
    "    return (pd.DataFrame): result of copy process\n",
    "    \"\"\"\n",
    "    if type(src_paths) == str:\n",
    "        print(\"Please input src_paths using list form. ex) [ src_path ]\")\n",
    "        return None\n",
    "        \n",
    "    result = pd.DataFrame(columns = [\"src_path\", \"dst_path\", \"result\"])\n",
    "    for src_path in src_paths:\n",
    "        if os.path.isfile(src_path):\n",
    "            file_name = Path(src_path).name\n",
    "            dst_path = os.path.join(save_dir_path, file_name)\n",
    "        else:\n",
    "            dst_path = save_dir_path\n",
    "        \n",
    "        copy_state = copy_file(src_path, dst_path, password, log_file_path)\n",
    "        result.loc[len(result)] = {\n",
    "            \"src_path\" : src_path,\n",
    "            \"dst_path\" : dst_path,\n",
    "            \"result\" : copy_state,\n",
    "        }\n",
    "    return result"
   ]
  },
  {
   "cell_type": "markdown",
   "id": "e678a31d-2347-42ba-a10f-0ee1911a38d4",
   "metadata": {},
   "source": [
    "# Copy sub-directory"
   ]
  },
  {
   "cell_type": "code",
   "execution_count": 10,
   "id": "4e8c40e6-d025-4ecc-a629-d4af1f98d3c3",
   "metadata": {},
   "outputs": [
    {
     "name": "stdout",
     "output_type": "stream",
     "text": [
      "\u001b[1mecho dbstjwls@1 | sudo -S cp -r /mnt/tmp/OldProjects /mnt/tmp2/OldProjects >> /home/seojin/temp/log.txt\u001b[0m\n"
     ]
    },
    {
     "name": "stderr",
     "output_type": "stream",
     "text": [
      "[sudo] password for seojin: \n",
      "KeyboardInterrupt\n",
      "\n"
     ]
    }
   ],
   "source": [
    "subdirectory_copy_results = []\n",
    "for directory_path in directory_paths:\n",
    "    sub_directory_name = os.path.join(dst_directory, Path(directory_path).name)\n",
    "    copy_result = copy_files(src_paths = [directory_path], \n",
    "                             save_dir_path = sub_directory_name, \n",
    "                             password = \"dbstjwls@1\",\n",
    "                             log_file_path = \"/home/seojin/temp/log.txt\")\n",
    "    subdirectory_copy_results.append(copy_result)"
   ]
  },
  {
   "cell_type": "markdown",
   "id": "8ea478ea-cc88-48eb-8a67-a2c06fbf5f00",
   "metadata": {},
   "source": [
    "# Copy files"
   ]
  },
  {
   "cell_type": "code",
   "execution_count": 53,
   "id": "260a2078-c4a2-44c2-b04f-01b816a09f3e",
   "metadata": {},
   "outputs": [
    {
     "name": "stdout",
     "output_type": "stream",
     "text": [
      "\u001b[1mcp /mnt/ext1/seojin/testA/aa.txt /mnt/ext1/seojin/testB/aa.txt\u001b[0m\n"
     ]
    },
    {
     "data": {
      "text/html": [
       "<div>\n",
       "<style scoped>\n",
       "    .dataframe tbody tr th:only-of-type {\n",
       "        vertical-align: middle;\n",
       "    }\n",
       "\n",
       "    .dataframe tbody tr th {\n",
       "        vertical-align: top;\n",
       "    }\n",
       "\n",
       "    .dataframe thead th {\n",
       "        text-align: right;\n",
       "    }\n",
       "</style>\n",
       "<table border=\"1\" class=\"dataframe\">\n",
       "  <thead>\n",
       "    <tr style=\"text-align: right;\">\n",
       "      <th></th>\n",
       "      <th>src_path</th>\n",
       "      <th>dst_path</th>\n",
       "      <th>result</th>\n",
       "    </tr>\n",
       "  </thead>\n",
       "  <tbody>\n",
       "    <tr>\n",
       "      <th>0</th>\n",
       "      <td>/mnt/ext1/seojin/testA/aa.txt</td>\n",
       "      <td>/mnt/ext1/seojin/testB/aa.txt</td>\n",
       "      <td>Good</td>\n",
       "    </tr>\n",
       "  </tbody>\n",
       "</table>\n",
       "</div>"
      ],
      "text/plain": [
       "                        src_path                       dst_path result\n",
       "0  /mnt/ext1/seojin/testA/aa.txt  /mnt/ext1/seojin/testB/aa.txt   Good"
      ]
     },
     "execution_count": 53,
     "metadata": {},
     "output_type": "execute_result"
    }
   ],
   "source": [
    "file_copy_result = copy_files(list(file_paths), dst_directory)"
   ]
  },
  {
   "cell_type": "code",
   "execution_count": null,
   "id": "4e421614-a825-48e8-98ec-9331e4693afc",
   "metadata": {},
   "outputs": [],
   "source": []
  }
 ],
 "metadata": {
  "kernelspec": {
   "display_name": "seojin",
   "language": "python",
   "name": "seojin"
  },
  "language_info": {
   "codemirror_mode": {
    "name": "ipython",
    "version": 3
   },
   "file_extension": ".py",
   "mimetype": "text/x-python",
   "name": "python",
   "nbconvert_exporter": "python",
   "pygments_lexer": "ipython3",
   "version": "3.9.6"
  }
 },
 "nbformat": 4,
 "nbformat_minor": 5
}
