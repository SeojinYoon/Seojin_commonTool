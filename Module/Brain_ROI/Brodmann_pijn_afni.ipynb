{
 "cells": [
  {
   "cell_type": "markdown",
   "id": "9953e83a-ea96-40a3-8166-df12cf3a639a",
   "metadata": {},
   "source": [
    "# Common Libraries"
   ]
  },
  {
   "cell_type": "code",
   "execution_count": 14,
   "id": "55804cbf-8746-4f43-a226-244ba120f658",
   "metadata": {},
   "outputs": [],
   "source": [
    "import gzip\n",
    "import re\n",
    "import xml.etree.ElementTree as ET\n",
    "import pandas as pd"
   ]
  },
  {
   "cell_type": "markdown",
   "id": "26b0247e-c691-429f-8b98-ccc3f3644297",
   "metadata": {},
   "source": [
    "# Params"
   ]
  },
  {
   "cell_type": "code",
   "execution_count": 15,
   "id": "c8c26587-6cbb-466a-b29b-0393d7ef6569",
   "metadata": {},
   "outputs": [],
   "source": [
    "brodman_nifti_path = \"/usr/local/afni/abin/Brodmann_pijn_afni.nii.gz\"\n",
    "save_xml_data_path = \"/home/seojin/Seojin_commonTool/Module/Brain_ROI/metadata.xml\"\n",
    "\n",
    "is_save_xml = True\n",
    "save_info_path = \"/home/seojin/Seojin_commonTool/Module/Brain_ROI/Brodmann_pijn_afni_info.csv\""
   ]
  },
  {
   "cell_type": "markdown",
   "id": "f17c6343-bb8e-4238-8b25-de4b342eb84b",
   "metadata": {},
   "source": [
    "# Load data"
   ]
  },
  {
   "cell_type": "code",
   "execution_count": 16,
   "id": "3ba8ab7e-a113-4319-85bd-75728e685aae",
   "metadata": {},
   "outputs": [],
   "source": [
    "with gzip.open(brodman_nifti_path, 'rt', errors='ignore') as f:\n",
    "    content = f.read()"
   ]
  },
  {
   "cell_type": "markdown",
   "id": "dfda4dbb-cf66-48d7-8e77-7774268b26ad",
   "metadata": {},
   "source": [
    "# Filtering meta data"
   ]
  },
  {
   "cell_type": "code",
   "execution_count": 17,
   "id": "6cf2eece-5064-4858-9827-4103c47ea8d9",
   "metadata": {},
   "outputs": [],
   "source": [
    "metadata = re.findall(r'<AFNI_attributes.*?</AFNI_attributes>', content, re.DOTALL)[0]\n",
    "\n",
    "if is_save_xml:\n",
    "    with open(save_xml_data_path, 'w') as xml_file:\n",
    "        xml_file.write(metadata)"
   ]
  },
  {
   "cell_type": "markdown",
   "id": "c064c084-0a07-449b-9fe6-ed5fb7f7ee53",
   "metadata": {},
   "source": [
    "# Read meta data"
   ]
  },
  {
   "cell_type": "code",
   "execution_count": 18,
   "id": "fb2cefc7-aa11-4d00-86e7-f399dc72592f",
   "metadata": {},
   "outputs": [],
   "source": [
    "root = ET.fromstring(metadata)\n",
    "value_label_dtable = None\n",
    "for atr in root.findall(\".//AFNI_atr\"):\n",
    "    if atr.get('atr_name') == \"VALUE_LABEL_DTABLE\":\n",
    "        value_label_dtable = atr.text\n",
    "        break"
   ]
  },
  {
   "cell_type": "markdown",
   "id": "5632aa2e-1648-420c-bf0d-5d0c864d3daa",
   "metadata": {},
   "source": [
    "# Filtering roi info"
   ]
  },
  {
   "cell_type": "code",
   "execution_count": 20,
   "id": "cfa0c39b-8d4d-4b19-8be2-927ed925b09e",
   "metadata": {},
   "outputs": [],
   "source": [
    "labels = []\n",
    "descriptions = []\n",
    "for row in value_label_dtable.split(\"\\n\"):\n",
    "    datas = row.split(\" \")\n",
    "    n_str = len(datas)\n",
    "\n",
    "    if n_str > 1:\n",
    "        label = datas[0].strip('\"')\n",
    "        description = datas[1].strip('\"')\n",
    "        \n",
    "        if (\"ctx\" in description) or (\"BA\" in description):\n",
    "            labels.append(label)\n",
    "            descriptions.append(description)"
   ]
  },
  {
   "cell_type": "code",
   "execution_count": 21,
   "id": "3ab0f0be-9d1a-4dee-ba50-c0030ffde94b",
   "metadata": {},
   "outputs": [],
   "source": [
    "empty_index = labels.index(\"\")\n",
    "descriptions[empty_index-1] = descriptions[empty_index - 1] + descriptions[empty_index]"
   ]
  },
  {
   "cell_type": "code",
   "execution_count": 18,
   "id": "f1f69b28-8850-40dd-b106-ff807001bb03",
   "metadata": {},
   "outputs": [],
   "source": [
    "del labels[empty_index]\n",
    "del descriptions[empty_index]"
   ]
  },
  {
   "cell_type": "markdown",
   "id": "ca380625-8ea6-4a96-9281-97af789299c6",
   "metadata": {},
   "source": [
    "# Save data"
   ]
  },
  {
   "cell_type": "code",
   "execution_count": 31,
   "id": "a9968a33-e436-49b6-90d6-b317820e29d4",
   "metadata": {},
   "outputs": [],
   "source": [
    "save_info = pd.DataFrame({ \"label\" : labels, \"description\" : descriptions })\n",
    "save_info.to_csv(save_info_path, index=False)"
   ]
  },
  {
   "cell_type": "code",
   "execution_count": 33,
   "id": "260a0b58-f640-4023-9d81-bdc2e02f7167",
   "metadata": {},
   "outputs": [
    {
     "data": {
      "text/plain": [
       "'/home/seojin/Seojin_commonTool/Module/Brain_ROI/Brodmann_pijn_afni_info.csv'"
      ]
     },
     "execution_count": 33,
     "metadata": {},
     "output_type": "execute_result"
    }
   ],
   "source": [
    "save_info_path"
   ]
  },
  {
   "cell_type": "code",
   "execution_count": null,
   "id": "fde2a57c-01a7-4427-91c7-1ddfbbbaea7a",
   "metadata": {},
   "outputs": [],
   "source": []
  }
 ],
 "metadata": {
  "kernelspec": {
   "display_name": "surfVis",
   "language": "python",
   "name": "surfvis"
  },
  "language_info": {
   "codemirror_mode": {
    "name": "ipython",
    "version": 3
   },
   "file_extension": ".py",
   "mimetype": "text/x-python",
   "name": "python",
   "nbconvert_exporter": "python",
   "pygments_lexer": "ipython3",
   "version": "3.10.16"
  }
 },
 "nbformat": 4,
 "nbformat_minor": 5
}
