{
 "cells": [
  {
   "cell_type": "markdown",
   "id": "e7637739-5ab7-4c12-b1a2-80b1cbccf999",
   "metadata": {},
   "source": [
    "# Common Libraries"
   ]
  },
  {
   "cell_type": "code",
   "execution_count": 1,
   "id": "ad583caa-f91d-470a-ae7b-dfd39d94def1",
   "metadata": {},
   "outputs": [],
   "source": [
    "import os\n",
    "import sys\n",
    "import csv\n",
    "import pandas as pd\n",
    "from glob import glob\n",
    "from tqdm import tqdm\n",
    "from pathlib import Path"
   ]
  },
  {
   "cell_type": "markdown",
   "id": "af40ec17-6260-4c81-bd42-8265e46f4042",
   "metadata": {},
   "source": [
    "# Paths"
   ]
  },
  {
   "cell_type": "code",
   "execution_count": 2,
   "id": "94322470-4c10-49e8-9f13-473bdb3b2ed3",
   "metadata": {},
   "outputs": [],
   "source": [
    "log_file_paths = glob(\"/home/seojin/temp/*\")\n",
    "duplicated_file_log = \"/home/seojin/temp/duplicated.csv\""
   ]
  },
  {
   "cell_type": "markdown",
   "id": "1bbd8218-2b4e-48eb-80ae-a5adfa9b66c4",
   "metadata": {},
   "source": [
    "# Load md5 log results"
   ]
  },
  {
   "cell_type": "code",
   "execution_count": 3,
   "id": "fbf12288-b3ad-46bb-9ede-71655a2b753a",
   "metadata": {},
   "outputs": [],
   "source": [
    "log_dfs = []\n",
    "for path in log_file_paths:\n",
    "    file_name = Path(path).stem\n",
    "    log_df = pd.read_csv(path)\n",
    "    log_dfs.append(log_df)\n",
    "    \n",
    "total_log_df = pd.concat(log_dfs)\n",
    "del log_dfs"
   ]
  },
  {
   "cell_type": "markdown",
   "id": "a1cc48e3-bc69-47e6-b53f-de31ca946102",
   "metadata": {},
   "source": [
    "# Check duplication"
   ]
  },
  {
   "cell_type": "code",
   "execution_count": 4,
   "id": "2072406d-be7f-4148-8583-52e5e044ef1b",
   "metadata": {},
   "outputs": [],
   "source": [
    "is_duplicate = total_log_df[\"md5\"].duplicated()"
   ]
  },
  {
   "cell_type": "code",
   "execution_count": 5,
   "id": "90209819-8a87-4465-b741-46349c384b50",
   "metadata": {},
   "outputs": [],
   "source": [
    "duplicated_data = total_log_df[is_duplicate]\n",
    "duplicated_md5s = sorted(list(set(duplicated_data[\"md5\"])))"
   ]
  },
  {
   "cell_type": "markdown",
   "id": "5cb16395-309f-4f62-a812-745038d69946",
   "metadata": {},
   "source": [
    "# Load duplication result log"
   ]
  },
  {
   "cell_type": "code",
   "execution_count": 6,
   "id": "152f9774-d924-4076-8129-53439d489b1a",
   "metadata": {},
   "outputs": [],
   "source": [
    "if not os.path.exists(duplicated_file_log):\n",
    "    with open(duplicated_file_log, mode = \"w\", newline = \"\") as csvfile:\n",
    "        writer = csv.writer(csvfile)\n",
    "        writer.writerow([\"md5\", \"n_dup\", \"sizePerFile\", \"filePaths\"])\n",
    "\n",
    "exist_indexes = pd.read_csv(duplicated_file_log).index\n",
    "start_i = 0 if len(exist_indexes) == 0 else exist_indexes[-1] + 1"
   ]
  },
  {
   "cell_type": "code",
   "execution_count": 7,
   "id": "a8ea8284-9403-412d-97a0-11bfc150e519",
   "metadata": {},
   "outputs": [
    {
     "data": {
      "text/plain": [
       "718041"
      ]
     },
     "execution_count": 7,
     "metadata": {},
     "output_type": "execute_result"
    }
   ],
   "source": [
    "start_i"
   ]
  },
  {
   "cell_type": "markdown",
   "id": "b4d23428-4bf8-4e11-a437-e8e783038751",
   "metadata": {},
   "source": [
    "# Write duplication result"
   ]
  },
  {
   "cell_type": "code",
   "execution_count": 8,
   "id": "60b1b524-9167-4234-b4a9-3fcbb09a343c",
   "metadata": {},
   "outputs": [
    {
     "name": "stderr",
     "output_type": "stream",
     "text": [
      "0it [00:00, ?it/s]\n"
     ]
    }
   ],
   "source": [
    "with open(duplicated_file_log, mode = \"a\", newline = \"\") as csvfile:\n",
    "    writer = csv.writer(csvfile)\n",
    "    for i in tqdm(range(start_i, len(duplicated_md5s))):\n",
    "        md5 = duplicated_md5s[i]\n",
    "        dup_result = total_log_df[total_log_df[\"md5\"] == md5]\n",
    "        size = os.path.getsize(dup_result.iloc[0][\"filePath\"])\n",
    "        file_paths = \"__DIV__\".join(dup_result[\"filePath\"])\n",
    "        writer.writerow([md5, len(dup_result), size, file_paths])"
   ]
  },
  {
   "cell_type": "code",
   "execution_count": null,
   "id": "101d3e3e-989a-4414-ae54-1270404fe196",
   "metadata": {},
   "outputs": [],
   "source": []
  }
 ],
 "metadata": {
  "kernelspec": {
   "display_name": "seojin",
   "language": "python",
   "name": "seojin"
  },
  "language_info": {
   "codemirror_mode": {
    "name": "ipython",
    "version": 3
   },
   "file_extension": ".py",
   "mimetype": "text/x-python",
   "name": "python",
   "nbconvert_exporter": "python",
   "pygments_lexer": "ipython3",
   "version": "3.9.6"
  }
 },
 "nbformat": 4,
 "nbformat_minor": 5
}
