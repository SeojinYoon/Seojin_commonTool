{
 "cells": [
  {
   "cell_type": "markdown",
   "id": "192be27d",
   "metadata": {},
   "source": [
    "Seojin\n",
    "\n",
    "# Notice\n",
    "\n",
    "You can visualize plot only in mac. I tested vedo in Ubuntu, but It did not work.\n",
    "\n",
    "# Vedo(Visualization of эD Objects)\n",
    "\n",
    "Vedo is scientific tool for visualizing 3d objects\n",
    "\n",
    "Official site: https://vedo.embl.es  \n",
    "Github: https://github.com/marcomusy/vedo/tree/master/examples/notebooks\n",
    "\n",
    "# Mesh\n",
    "\n",
    "For visualizing 3d Object, You should make mesh(vertexes) based on nifti image. For making vtk file, I used nii2mesh.\n",
    "\n",
    "Github: https://github.com/neurolabusc/nii2mesh\n",
    "\n",
    "ex) nii2mesh lt_hippo_fan.nii lt_hippo_fan_d.vtk"
   ]
  },
  {
   "cell_type": "markdown",
   "id": "6044a082",
   "metadata": {},
   "source": [
    "# Library"
   ]
  },
  {
   "cell_type": "code",
   "execution_count": 1,
   "id": "a3f91d83",
   "metadata": {},
   "outputs": [],
   "source": [
    "import nibabel as nb\n",
    "import vedo\n",
    "from matplotlib import cm\n",
    "import matplotlib.pylab as plt\n",
    "import numpy as np\n",
    "import os\n",
    "from matplotlib.colors import to_hex\n",
    "from vedo import Text2D, Sphere, Plotter\n",
    "import glob\n",
    "from pathlib import Path\n",
    "from skimage import io\n",
    "\n",
    "import sys\n",
    "sys.path.append(\"../\")\n",
    "\n",
    "# Custom Libraries\n",
    "from afni_extension import set_afni_abin, cluster_infos, clusterize, find_thresholds_1samp\n",
    "from sj_brain_vis import cluster_to_mesh, make_mesh_fromRM, make_cluster_spheres, make_cluster_meshes\n",
    "from sj_higher_function import flatten\n",
    "\n",
    "set_afni_abin(\"/Users/clmn/abin/afni\")"
   ]
  },
  {
   "cell_type": "markdown",
   "id": "07b301c9",
   "metadata": {},
   "source": [
    "# Input"
   ]
  },
  {
   "cell_type": "code",
   "execution_count": 22,
   "id": "03ffe478",
   "metadata": {},
   "outputs": [],
   "source": [
    "model_dir_path = \"/Users/clmn/Downloads/vedo_vis/statmap/model\"\n",
    "\n",
    "is_paired_test = True\n",
    "model_param = \"st_c\" # st_r ts_c ts_r\n",
    "\n",
    "if is_paired_test:\n",
    "    stat_map_paths = sorted(glob.glob(os.path.join(model_dir_path, model_param, \"*paired*\")))\n",
    "else:\n",
    "    stat_map_paths = sorted(glob.glob(os.path.join(model_dir_path, model_param, \"*1samp*\")))\n",
    "\n",
    "if model_param.startswith(\"st\"):\n",
    "    pass\n",
    "else:\n",
    "    stat_map_paths = stat_map_paths[4:] + stat_map_paths[:4]\n",
    "    \n",
    "file_names = [Path(path).stem for path in stat_map_paths]"
   ]
  },
  {
   "cell_type": "markdown",
   "id": "f136f77c",
   "metadata": {},
   "source": [
    "# Params"
   ]
  },
  {
   "cell_type": "code",
   "execution_count": 23,
   "id": "7783f6b2",
   "metadata": {},
   "outputs": [],
   "source": [
    "# Directory path for saving cluster result\n",
    "cluster_dir_path = \"/Users/clmn/Downloads/vedo_vis/brain_rois/clusters\"\n",
    "\n",
    "# Base brain mask - LPS+ coords(mni, spm)\n",
    "base_brain_nii_path = \"/Users/clmn/Downloads/vedo_dir/group_mask.nii\"\n",
    "\n",
    "# Brain roi path\n",
    "brain_roi_path = \"/Users/clmn/Downloads/vedo_vis/brain_rois\"\n",
    "\n",
    "# Plotting method\n",
    "cluster_plot_style = \"mesh\" # mesh, point\n",
    "\n",
    "# Clusterize params\n",
    "atlas_query_method = \"center\"\n",
    "n_datas = np.repeat(20, len(stat_map_paths))\n",
    "thresholds = None\n",
    "candidate_p_values = [0.05, 0.01, 0.005, 0.001, 0.0005, 0.0001]\n",
    "cluster_size = 40\n",
    "criteria_n_cluster = 6\n",
    "NN_level = 1\n"
   ]
  },
  {
   "cell_type": "markdown",
   "id": "be5ae539",
   "metadata": {},
   "source": [
    "# Calculate optimizing threshold"
   ]
  },
  {
   "cell_type": "code",
   "execution_count": 24,
   "id": "83c890df",
   "metadata": {},
   "outputs": [],
   "source": [
    "if thresholds == None:\n",
    "    # Make thresholds\n",
    "    clust_infos = []\n",
    "    for path, n_data in zip(stat_map_paths, n_datas):\n",
    "        clust_info = find_thresholds_1samp(stat_path = path, \n",
    "                                           candidate_p_values = candidate_p_values,\n",
    "                                           criteria_n_cluster = criteria_n_cluster, \n",
    "                                           n_data = n_data, \n",
    "                                           cluster_size = cluster_size,\n",
    "                                           NN_level = NN_level)\n",
    "        clust_infos.append(clust_info)\n",
    "    \n",
    "    thresholds = [info[\"t_thres\"] for info in clust_infos]"
   ]
  },
  {
   "cell_type": "markdown",
   "id": "15b322ab",
   "metadata": {},
   "source": [
    "# Base brain"
   ]
  },
  {
   "cell_type": "code",
   "execution_count": 5,
   "id": "2714c2df",
   "metadata": {},
   "outputs": [],
   "source": [
    "# Load base brain\n",
    "base_brain_vtk_path = os.path.join(cluster_dir_path, f\"{Path(base_brain_nii_path).stem}.vtk\")\n",
    "os.system(f\"nii2mesh {base_brain_nii_path} {base_brain_vtk_path}\")\n",
    "\n",
    "base_brain_vtk_volume = vedo.load(base_brain_vtk_path).opacity(0.1)"
   ]
  },
  {
   "cell_type": "markdown",
   "id": "23191bdf",
   "metadata": {},
   "source": [
    "# Get cluster information"
   ]
  },
  {
   "cell_type": "code",
   "execution_count": 26,
   "id": "659761cd",
   "metadata": {},
   "outputs": [],
   "source": [
    "if cluster_plot_style == \"mesh\":\n",
    "    # Remove files if cluster mask exists\n",
    "    clust_mask_paths = glob.glob(os.path.join(cluster_dir_path, \"*_clust_mask.nii\"))\n",
    "    for path in clust_mask_paths:\n",
    "        os.system(f\"rm {path}\")\n",
    "    \n",
    "    # File path of cluster mask\n",
    "    pref_maps = []\n",
    "    for file_path in stat_map_paths:\n",
    "        path = os.path.join(cluster_dir_path, file_path.split(os.sep)[-1].split(\".\")[0] + \"_clust_mask.nii\")\n",
    "        pref_maps.append(path)\n",
    "else:\n",
    "    pref_maps = None\n",
    "\n",
    "# query based on spm coordinate\n",
    "cluster_dfs = cluster_infos(stat_map_paths = stat_map_paths,\n",
    "                            thresholds = thresholds,\n",
    "                            cluster_sizes = np.repeat(cluster_size, len(stat_map_paths)),\n",
    "                            is_positive = True,\n",
    "                            pref_maps = pref_maps,\n",
    "                            atlas_query_method = atlas_query_method,\n",
    "                            NN_level = NN_level)\n"
   ]
  },
  {
   "cell_type": "code",
   "execution_count": 27,
   "id": "b3268f33",
   "metadata": {},
   "outputs": [],
   "source": [
    "# Make cluster vtk files\n",
    "if cluster_plot_style == \"mesh\":\n",
    "    cluster_mesh_paths = []\n",
    "    for model_i, path in enumerate(pref_maps):\n",
    "        if type(cluster_dfs[model_i]) == type(None):\n",
    "            cluster_mesh_paths.append([])\n",
    "            continue\n",
    "\n",
    "        cluster_numbers = cluster_dfs[model_i].index + 1\n",
    "        paths = cluster_to_mesh(cluster_map_path = pref_maps[model_i], \n",
    "                                cluster_numbers = cluster_numbers, \n",
    "                                save_dir_path = cluster_dir_path)\n",
    "        cluster_mesh_paths.append(paths)"
   ]
  },
  {
   "cell_type": "markdown",
   "id": "ed323df6",
   "metadata": {},
   "source": [
    "# ROI"
   ]
  },
  {
   "cell_type": "code",
   "execution_count": 82,
   "id": "ce01198d",
   "metadata": {},
   "outputs": [],
   "source": [
    "colors = plt.cm.rainbow(np.linspace(0, 1, len(roi_vtk_files)))\n",
    "colors = colors[::-1]\n",
    "colors = [to_hex(color) for color in colors]"
   ]
  },
  {
   "cell_type": "code",
   "execution_count": 83,
   "id": "dd053c8b",
   "metadata": {},
   "outputs": [
    {
     "name": "stdout",
     "output_type": "stream",
     "text": [
      "/Users/clmn/Downloads/vedo_vis/brain_rois/Rt_orbital.vtk\n",
      "/Users/clmn/Downloads/vedo_vis/brain_rois/Lt_red_nucleus.vtk\n",
      "/Users/clmn/Downloads/vedo_vis/brain_rois/Lt_medioventral_occipital.vtk\n",
      "/Users/clmn/Downloads/vedo_vis/brain_rois/Rt_cingulate.vtk\n",
      "/Users/clmn/Downloads/vedo_vis/brain_rois/Rt_paracentral.vtk\n",
      "/Users/clmn/Downloads/vedo_vis/brain_rois/Rt_superior_frontal_gyrus.vtk\n",
      "/Users/clmn/Downloads/vedo_vis/brain_rois/Lt_superior_parietal.vtk\n",
      "/Users/clmn/Downloads/vedo_vis/brain_rois/Lt_orbital.vtk\n",
      "/Users/clmn/Downloads/vedo_vis/brain_rois/Rt_thalamus.vtk\n",
      "/Users/clmn/Downloads/vedo_vis/brain_rois/Rt_red_nucleus.vtk\n",
      "/Users/clmn/Downloads/vedo_vis/brain_rois/Lt_fusiform.vtk\n",
      "/Users/clmn/Downloads/vedo_vis/brain_rois/Lt_inferior_parietal.vtk\n",
      "/Users/clmn/Downloads/vedo_vis/brain_rois/Rt_parahippocampal.vtk\n",
      "/Users/clmn/Downloads/vedo_vis/brain_rois/Lt_substantia_nigra.vtk\n",
      "/Users/clmn/Downloads/vedo_vis/brain_rois/Lt_basal_ganglia.vtk\n",
      "/Users/clmn/Downloads/vedo_vis/brain_rois/Rt_amygdala.vtk\n",
      "/Users/clmn/Downloads/vedo_vis/brain_rois/Lt_precuneus.vtk\n",
      "/Users/clmn/Downloads/vedo_vis/brain_rois/Lt_parahippocampal.vtk\n",
      "/Users/clmn/Downloads/vedo_vis/brain_rois/Rt_lateral_occipital.vtk\n",
      "/Users/clmn/Downloads/vedo_vis/brain_rois/Rt_cerebellum.vtk\n",
      "/Users/clmn/Downloads/vedo_vis/brain_rois/Lt_paracentral.vtk\n",
      "/Users/clmn/Downloads/vedo_vis/brain_rois/Lt_inferior_frontal_gyrus.vtk\n",
      "/Users/clmn/Downloads/vedo_vis/brain_rois/Rt_precentral.vtk\n",
      "/Users/clmn/Downloads/vedo_vis/brain_rois/Rt_insular.vtk\n",
      "/Users/clmn/Downloads/vedo_vis/brain_rois/Rt_hippocampus.vtk\n",
      "/Users/clmn/Downloads/vedo_vis/brain_rois/Rt_superior_parietal.vtk\n",
      "/Users/clmn/Downloads/vedo_vis/brain_rois/Rt_substantia_nigra.vtk\n",
      "/Users/clmn/Downloads/vedo_vis/brain_rois/Brainstem.vtk\n",
      "/Users/clmn/Downloads/vedo_vis/brain_rois/Lt_middle_frontal_gyrus.vtk\n",
      "/Users/clmn/Downloads/vedo_vis/brain_rois/Lt_cingulate.vtk\n",
      "/Users/clmn/Downloads/vedo_vis/brain_rois/Lt_postcentral.vtk\n",
      "/Users/clmn/Downloads/vedo_vis/brain_rois/Rt_inferior_frontal_gyrus.vtk\n",
      "/Users/clmn/Downloads/vedo_vis/brain_rois/Hypothalamus.vtk\n",
      "/Users/clmn/Downloads/vedo_vis/brain_rois/Lt_insular.vtk\n",
      "/Users/clmn/Downloads/vedo_vis/brain_rois/Rt_basal_ganglia.vtk\n",
      "/Users/clmn/Downloads/vedo_vis/brain_rois/Rt_fusiform.vtk\n",
      "/Users/clmn/Downloads/vedo_vis/brain_rois/Lt_thalamus.vtk\n",
      "/Users/clmn/Downloads/vedo_vis/brain_rois/Rt_middle_frontal_gyrus.vtk\n",
      "/Users/clmn/Downloads/vedo_vis/brain_rois/Lt_hippocampus.vtk\n",
      "/Users/clmn/Downloads/vedo_vis/brain_rois/Lt_lateral_occipital.vtk\n",
      "/Users/clmn/Downloads/vedo_vis/brain_rois/Rt_medioventral_occipital.vtk\n",
      "/Users/clmn/Downloads/vedo_vis/brain_rois/Rt_precuneus.vtk\n",
      "/Users/clmn/Downloads/vedo_vis/brain_rois/Lt_amygdala.vtk\n",
      "/Users/clmn/Downloads/vedo_vis/brain_rois/Rt_postcentral.vtk\n",
      "/Users/clmn/Downloads/vedo_vis/brain_rois/Lt_superior_frontal_gyrus.vtk\n",
      "/Users/clmn/Downloads/vedo_vis/brain_rois/Lt_cerebellum.vtk\n",
      "/Users/clmn/Downloads/vedo_vis/brain_rois/Rt_inferior_parietal.vtk\n",
      "/Users/clmn/Downloads/vedo_vis/brain_rois/Lt_precentral.vtk\n"
     ]
    }
   ],
   "source": [
    "# ROI vtks\n",
    "roi_vtk_files = glob.glob(os.path.join(brain_roi_path, \"*.vtk\"))\n",
    "\n",
    "# ROI volumes\n",
    "roi_vtk_volumes = []\n",
    "for vtk_path, color in zip(roi_vtk_files, colors):\n",
    "    roi_vtk_volume = vedo.load(vtk_path)\n",
    "    \n",
    "    roi_vtk_volume = roi_vtk_volume\n",
    "    roi_vtk_volume = roi_vtk_volume.opacity(0.3)\n",
    "    roi_vtk_volume = roi_vtk_volume.color(color)\n",
    "    roi_vtk_volume = roi_vtk_volume.lighting('glossy')\n",
    "    roi_vtk_volumes.append(roi_vtk_volume)\n",
    "    "
   ]
  },
  {
   "cell_type": "markdown",
   "id": "26c6d1fa",
   "metadata": {},
   "source": [
    "# Clusters"
   ]
  },
  {
   "cell_type": "code",
   "execution_count": 85,
   "id": "7053ff00",
   "metadata": {},
   "outputs": [
    {
     "data": {
      "image/png": "[encoded data removed]",
      "text/plain": [
       "<Figure size 432x288 with 1 Axes>"
      ]
     },
     "metadata": {
      "needs_background": "light"
     },
     "output_type": "display_data"
    }
   ],
   "source": [
    "# cluster color\n",
    "colors = plt.cm.rainbow(np.linspace(0, 1, len(cluster_dfs)))\n",
    "colors = colors[::-1]\n",
    "io.imshow(np.expand_dims(colors[:,:-1], 1))\n",
    "\n",
    "colors = [to_hex(color) for color in colors]\n",
    "\n",
    "# stack result\n",
    "clusters = []\n",
    "\n",
    "if cluster_plot_style == \"point\":\n",
    "    for cluster_df, color in zip(cluster_dfs, colors):\n",
    "        l_clusters = make_cluster_spheres(cluster_df = cluster_df, color = color)\n",
    "        clusters.append(l_clusters)\n",
    "else:\n",
    "    for cluster_df, mesh_paths, color in zip(cluster_dfs, cluster_mesh_paths, colors):\n",
    "        l_clusters = make_cluster_meshes(cluster_df = cluster_df, mesh_paths = mesh_paths, color = color)\n",
    "        clusters.append(l_clusters)\n",
    "\n",
    "for c in flatten(clusters):\n",
    "    c.opacity(1.0)"
   ]
  },
  {
   "cell_type": "markdown",
   "id": "510968ed",
   "metadata": {},
   "source": [
    "# Merge drawings"
   ]
  },
  {
   "cell_type": "code",
   "execution_count": 86,
   "id": "8a34e380",
   "metadata": {},
   "outputs": [],
   "source": [
    "base_brain_volume = base_brain_vtk_volume.opacity(0)"
   ]
  },
  {
   "cell_type": "code",
   "execution_count": 87,
   "id": "96662e73",
   "metadata": {},
   "outputs": [],
   "source": [
    "def func(evt):\n",
    "    if not evt.actor:\n",
    "        return\n",
    "    try:\n",
    "        origin = evt.actor.c()\n",
    "        # sil = evt.actor.c('red5')\n",
    "        msg.text(\"area name: \"+ evt.actor.name)\n",
    "        # plt.remove('silu').add(sil)\n",
    "    except:\n",
    "        pass\n"
   ]
  },
  {
   "cell_type": "code",
   "execution_count": 88,
   "id": "2632cb4e",
   "metadata": {},
   "outputs": [],
   "source": [
    "def show_clusters(clusters, opacity):\n",
    "    for c in clusters:\n",
    "        c.opacity(opacity)"
   ]
  },
  {
   "cell_type": "code",
   "execution_count": 89,
   "id": "5e7b0554",
   "metadata": {},
   "outputs": [],
   "source": [
    "msg = Text2D(\"\", pos=\"bottom-center\", c='k', bg='r9', alpha=0.8)\n",
    "\n",
    "plotter = Plotter(axes=1, bg='black')\n",
    "plotter.addCallback('mouse click', func)\n",
    "\n",
    "slider_info = {\n",
    "    \"current\" : 0\n",
    "}\n",
    "\n",
    "xmin = 0\n",
    "xmax = 8\n",
    "\n",
    "x_indexes = np.arange(len(stat_map_paths))\n",
    "\n",
    "def slider(widget, event):    \n",
    "    maximum = widget.GetSliderRepresentation().GetMaximumValue()\n",
    "    v = widget.GetSliderRepresentation().GetCurrentT()\n",
    "    \n",
    "    current_range = int(np.round((v * maximum), 0))\n",
    "    \n",
    "    if slider_info[\"current\"] == current_range:\n",
    "        pass\n",
    "    else:\n",
    "        slider_info[\"current\"] = current_range\n",
    "        \n",
    "        if current_range == 0:\n",
    "            msg.text(\"show All\")\n",
    "            \n",
    "            # All clusters\n",
    "            for x_i in x_indexes:\n",
    "                show_clusters(clusters = clusters[x_i], opacity = 1.0)\n",
    "        else:\n",
    "            # if 1, show 0 index stat cluster\n",
    "            x_i = current_range - 1\n",
    "            \n",
    "            msg.text(f\"show {file_names[x_i]}\")\n",
    "\n",
    "            other_indexes = x_indexes[x_indexes != x_i]\n",
    "            for i in other_indexes:\n",
    "                show_clusters(clusters = clusters[i], opacity = 0.0)\n",
    "                \n",
    "            show_clusters(clusters = clusters[x_i], opacity = 1.0)\n",
    "\n",
    "plotter.addSlider2D(\n",
    "    sliderfunc = slider,\n",
    "    xmin = xmin,\n",
    "    xmax = xmax,\n",
    "    value = 0,\n",
    "    c = \"blue\",\n",
    "    pos = \"bottom-right-vertical\",\n",
    "    title = \"alpha value (opacity)\"\n",
    ")\n",
    "\n",
    "plotter.show(clusters + roi_vtk_volumes + [base_brain_volume], \n",
    "         msg,\n",
    "         __doc__, \n",
    "         axes = 2,\n",
    "         zoom=1.2)\n",
    "plotter.close()"
   ]
  },
  {
   "cell_type": "code",
   "execution_count": null,
   "id": "08b2ae5c",
   "metadata": {},
   "outputs": [],
   "source": []
  }
 ],
 "metadata": {
  "kernelspec": {
   "display_name": "visualizatin",
   "language": "python",
   "name": "visualizatin"
  },
  "language_info": {
   "codemirror_mode": {
    "name": "ipython",
    "version": 3
   },
   "file_extension": ".py",
   "mimetype": "text/x-python",
   "name": "python",
   "nbconvert_exporter": "python",
   "pygments_lexer": "ipython3",
   "version": "3.8.8"
  }
 },
 "nbformat": 4,
 "nbformat_minor": 5
}
