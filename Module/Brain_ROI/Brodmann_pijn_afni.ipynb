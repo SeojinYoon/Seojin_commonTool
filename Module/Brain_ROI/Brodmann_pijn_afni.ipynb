{
 "cells": [
  {
   "cell_type": "markdown",
   "id": "9953e83a-ea96-40a3-8166-df12cf3a639a",
   "metadata": {},
   "source": [
    "# Common Libraries"
   ]
  },
  {
   "cell_type": "code",
   "execution_count": 25,
   "id": "55804cbf-8746-4f43-a226-244ba120f658",
   "metadata": {},
   "outputs": [],
   "source": [
    "import gzip\n",
    "import re\n",
    "import xml.etree.ElementTree as ET\n",
    "import pandas as pd"
   ]
  },
  {
   "cell_type": "markdown",
   "id": "26b0247e-c691-429f-8b98-ccc3f3644297",
   "metadata": {},
   "source": [
    "# Params"
   ]
  },
  {
   "cell_type": "code",
   "execution_count": 28,
   "id": "c8c26587-6cbb-466a-b29b-0393d7ef6569",
   "metadata": {},
   "outputs": [],
   "source": [
    "brodman_nifti_path = \"/usr/local/afni/abin/Brodmann_pijn_afni.nii.gz\"\n",
    "save_xml_data_path = \"/home/seojin/Seojin_commonTool/Module/Brain_ROI/metadata.xml\"\n",
    "\n",
    "is_save_xml = True\n",
    "save_info_path = \"/home/seojin/Seojin_commonTool/Module/Brain_ROI/Brodmann_pijn_afni_info.csv\""
   ]
  },
  {
   "cell_type": "markdown",
   "id": "f17c6343-bb8e-4238-8b25-de4b342eb84b",
   "metadata": {},
   "source": [
    "# Load data"
   ]
  },
  {
   "cell_type": "code",
   "execution_count": 3,
   "id": "3ba8ab7e-a113-4319-85bd-75728e685aae",
   "metadata": {},
   "outputs": [],
   "source": [
    "with gzip.open(brodman_nifti_path, 'rt', errors='ignore') as f:\n",
    "    content = f.read()"
   ]
  },
  {
   "cell_type": "markdown",
   "id": "dfda4dbb-cf66-48d7-8e77-7774268b26ad",
   "metadata": {},
   "source": [
    "# Filtering meta data"
   ]
  },
  {
   "cell_type": "code",
   "execution_count": 4,
   "id": "6cf2eece-5064-4858-9827-4103c47ea8d9",
   "metadata": {},
   "outputs": [],
   "source": [
    "metadata = re.findall(r'<AFNI_attributes.*?</AFNI_attributes>', content, re.DOTALL)[0]\n",
    "\n",
    "if is_save_xml:\n",
    "    with open(save_xml_data_path, 'w') as xml_file:\n",
    "        xml_file.write(metadata)"
   ]
  },
  {
   "cell_type": "markdown",
   "id": "c064c084-0a07-449b-9fe6-ed5fb7f7ee53",
   "metadata": {},
   "source": [
    "# Read meta data"
   ]
  },
  {
   "cell_type": "code",
   "execution_count": 6,
   "id": "fb2cefc7-aa11-4d00-86e7-f399dc72592f",
   "metadata": {},
   "outputs": [
    {
     "data": {
      "text/plain": [
       "'\\n \"<VALUE_LABEL_DTABLE\\nni_type=\"2*String\"\\nni_dimen=\"78\"\\npbar_name=\"ROI_i256\">\\n\"1\" \"ctx-lh-BA1_3\"\\n\"2\" \"ctx-lh-BA2\"\\n\"3\" \"ctx-lh-BA4\"\\n\"4\" \"ctx-lh-BA5\"\\n\"5\" \"ctx-lh-BA6\"\\n\"6\" \"ctx-lh-BA7\"\\n\"7\" \"ctx-lh-BA8\"\\n\"8\" \"ctx-lh-BA9\"\\n\"9\" \"ctx-lh-BA10\"\\n\"10\" \"ctx-lh-BA11\"\\n\"11\" \"ctx-lh-BA13\"\\n\"12\" \"ctx-lh-BA16\"\\n\"13\" \"ctx-lh-BA17\"\\n\"14\" \"ctx-lh-BA18\"\\n\"15\" \"ctx-lh-BA19\"\\n\"16\" \"ctx-lh-BA20\"\\n\"17\" \"ctx-lh-BA21\"\\n\"18\" \"ctx-lh-BA22\"\\n\"19\" \"ctx-lh-BA23\"\\n\"20\" \"ctx-lh-BA24\"\\n\"21\" \"ctx-lh-BA25\"\\n\"22\" \"ctx-lh-BA26_29_30\"\\n\"23\" \"ctx-lh-BA27\"\\n\"24\" \"ctx-lh-BA28\"\\n\"25\" \"ctx-lh-BA31\"\\n\"26\" \"ctx-lh-BA32\"\\n\"27\" \"ctx-lh-BA33\"\\n\"28\" \"ctx-lh-BA34\"\\n\"29\" \"ctx-lh-BA35_36\"\\n\"30\" \"ctx-lh-BA37\"\\n\"31\" \"ctx-lh-BA38\"\\n\"32\" \"ctx-lh-BA39\"\\n\"33\" \"ctx-lh-BA40\"\\n\"34\" \"ctx-lh-BA41_42_52\"\\n\"35\" \"ctx-lh-BA43\"\\n\"36\" \"ctx-lh-BA44\"\\n\"37\" \"ctx-lh-BA45\"\\n\"38\" \"ctx-lh-BA46\"\\n\"39\" \"ctx-lh-BA47\"\\n\"101\" \"ctx-rh-BA1_3\"\\n\"102\" \"ctx-rh-BA2\"\\n\"103\" \"ctx-rh-BA4\"\\n\"104\" \"ctx-rh-BA5\"\\n\"105\" \"ctx-rh-BA6\"\\n\"106\" \"ctx-rh-BA7\"\\n\"107\" \"ctx-rh-BA8\"\\n\"108\" \"ctx-rh-BA9\"\\n\"109\" \"ctx-rh-BA10\"\\n\"110\" \"ctx\"\\n \"-rh-BA11\"\\n\"111\" \"ctx-rh-BA13\"\\n\"112\" \"ctx-rh-BA16\"\\n\"113\" \"ctx-rh-BA17\"\\n\"114\" \"ctx-rh-BA18\"\\n\"115\" \"ctx-rh-BA19\"\\n\"116\" \"ctx-rh-BA20\"\\n\"117\" \"ctx-rh-BA21\"\\n\"118\" \"ctx-rh-BA22\"\\n\"119\" \"ctx-rh-BA23\"\\n\"120\" \"ctx-rh-BA24\"\\n\"121\" \"ctx-rh-BA25\"\\n\"122\" \"ctx-rh-BA26_29_30\"\\n\"123\" \"ctx-rh-BA27\"\\n\"124\" \"ctx-rh-BA28\"\\n\"125\" \"ctx-rh-BA31\"\\n\"126\" \"ctx-rh-BA32\"\\n\"127\" \"ctx-rh-BA33\"\\n\"128\" \"ctx-rh-BA34\"\\n\"129\" \"ctx-rh-BA35_36\"\\n\"130\" \"ctx-rh-BA37\"\\n\"131\" \"ctx-rh-BA38\"\\n\"132\" \"ctx-rh-BA39\"\\n\"133\" \"ctx-rh-BA40\"\\n\"134\" \"ctx-rh-BA41_42_52\"\\n\"135\" \"ctx-rh-BA43\"\\n\"136\" \"ctx-rh-BA44\"\\n\"137\" \"ctx-rh-BA45\"\\n\"138\" \"ctx-rh-BA46\"\\n\"139\" \"ctx-rh-BA47\"\\n</VALUE_LABEL_DTABLE>\\n\"\\n'"
      ]
     },
     "execution_count": 6,
     "metadata": {},
     "output_type": "execute_result"
    }
   ],
   "source": [
    "root = ET.fromstring(metadata)\n",
    "value_label_dtable = None\n",
    "for atr in root.findall(\".//AFNI_atr\"):\n",
    "    if atr.get('atr_name') == \"VALUE_LABEL_DTABLE\":\n",
    "        value_label_dtable = atr.text\n",
    "        break"
   ]
  },
  {
   "cell_type": "markdown",
   "id": "5632aa2e-1648-420c-bf0d-5d0c864d3daa",
   "metadata": {},
   "source": [
    "# Filtering roi info"
   ]
  },
  {
   "cell_type": "code",
   "execution_count": 14,
   "id": "cfa0c39b-8d4d-4b19-8be2-927ed925b09e",
   "metadata": {},
   "outputs": [],
   "source": [
    "labels = []\n",
    "descriptions = []\n",
    "for row in value_label_dtable.split(\"\\n\"):\n",
    "    datas = row.split(\" \")\n",
    "    n_str = len(datas)\n",
    "\n",
    "    if n_str > 1:\n",
    "        label = datas[0].strip('\"')\n",
    "        description = datas[1].strip('\"')\n",
    "        \n",
    "        if (\"ctx\" in description) or (\"BA\" in description):\n",
    "            labels.append(label)\n",
    "            descriptions.append(description)"
   ]
  },
  {
   "cell_type": "code",
   "execution_count": 17,
   "id": "3ab0f0be-9d1a-4dee-ba50-c0030ffde94b",
   "metadata": {},
   "outputs": [],
   "source": [
    "empty_index = labels.index(\"\")\n",
    "descriptions[empty_index-1] = descriptions[empty_index - 1] + descriptions[empty_index]"
   ]
  },
  {
   "cell_type": "code",
   "execution_count": 18,
   "id": "f1f69b28-8850-40dd-b106-ff807001bb03",
   "metadata": {},
   "outputs": [],
   "source": [
    "del labels[empty_index]\n",
    "del descriptions[empty_index]"
   ]
  },
  {
   "cell_type": "markdown",
   "id": "ca380625-8ea6-4a96-9281-97af789299c6",
   "metadata": {},
   "source": [
    "# Save data"
   ]
  },
  {
   "cell_type": "code",
   "execution_count": 31,
   "id": "a9968a33-e436-49b6-90d6-b317820e29d4",
   "metadata": {},
   "outputs": [],
   "source": [
    "save_info = pd.DataFrame({ \"label\" : labels, \"description\" : descriptions })\n",
    "save_info.to_csv(save_info_path, index=False)"
   ]
  },
  {
   "cell_type": "code",
   "execution_count": 33,
   "id": "260a0b58-f640-4023-9d81-bdc2e02f7167",
   "metadata": {},
   "outputs": [
    {
     "data": {
      "text/plain": [
       "'/home/seojin/Seojin_commonTool/Module/Brain_ROI/Brodmann_pijn_afni_info.csv'"
      ]
     },
     "execution_count": 33,
     "metadata": {},
     "output_type": "execute_result"
    }
   ],
   "source": [
    "save_info_path"
   ]
  },
  {
   "cell_type": "code",
   "execution_count": null,
   "id": "fde2a57c-01a7-4427-91c7-1ddfbbbaea7a",
   "metadata": {},
   "outputs": [],
   "source": []
  }
 ],
 "metadata": {
  "kernelspec": {
   "display_name": "surfVis",
   "language": "python",
   "name": "surfvis"
  },
  "language_info": {
   "codemirror_mode": {
    "name": "ipython",
    "version": 3
   },
   "file_extension": ".py",
   "mimetype": "text/x-python",
   "name": "python",
   "nbconvert_exporter": "python",
   "pygments_lexer": "ipython3",
   "version": "3.10.16"
  }
 },
 "nbformat": 4,
 "nbformat_minor": 5
}
