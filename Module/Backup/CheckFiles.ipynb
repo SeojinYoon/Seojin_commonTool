{
 "cells": [
  {
   "cell_type": "markdown",
   "id": "180c8ea7-dc5e-426d-9885-a1e82acba1ac",
   "metadata": {},
   "source": [
    "# Common Libraries"
   ]
  },
  {
   "cell_type": "code",
   "execution_count": 1,
   "id": "b2103f96-5d64-449c-9915-f06186625259",
   "metadata": {},
   "outputs": [],
   "source": [
    "import os\n",
    "import sys\n",
    "import csv\n",
    "import glob\n",
    "import numpy as np\n",
    "import pandas as pd\n",
    "from pathlib import Path\n",
    "from tqdm import tqdm"
   ]
  },
  {
   "cell_type": "markdown",
   "id": "49cf6c35-9b36-4494-b80d-e2fc0a0a486f",
   "metadata": {},
   "source": [
    "# Custom Libraries"
   ]
  },
  {
   "cell_type": "code",
   "execution_count": 2,
   "id": "95f7ef64-6abf-421e-bfcc-9657a15906de",
   "metadata": {},
   "outputs": [],
   "source": [
    "sys.path.append(\"/home/seojin/Seojin_commonTool/Module\")\n",
    "\n",
    "from sj_file_system import checksum"
   ]
  },
  {
   "cell_type": "markdown",
   "id": "756f585e-ae22-410d-adfb-18d1fdff26c9",
   "metadata": {},
   "source": [
    "# Paths"
   ]
  },
  {
   "cell_type": "code",
   "execution_count": 3,
   "id": "9ec138fd-7f55-4a27-a3bc-744311479be8",
   "metadata": {},
   "outputs": [],
   "source": [
    "dir_path = \"/mnt/tmp2/GA\"\n",
    "\n",
    "log_file_name = dir_path.replace(os.sep, \"_\")\n",
    "log_file_path = f\"/home/seojin/temp/{log_file_name}.csv\" "
   ]
  },
  {
   "cell_type": "markdown",
   "id": "a787f31b-b9c1-42bc-8b9d-ac9d1fe7975d",
   "metadata": {},
   "source": [
    "# Sources"
   ]
  },
  {
   "cell_type": "code",
   "execution_count": 4,
   "id": "fac35bcb-1be7-4bd0-a782-9ad2a75a9f69",
   "metadata": {},
   "outputs": [],
   "source": [
    "src_file_path_generator = glob.iglob(dir_path + \"/**/*\", recursive=True)\n",
    "src_file_paths = sorted(list(src_file_path_generator))\n",
    "n_src_file = len(src_file_paths)"
   ]
  },
  {
   "cell_type": "code",
   "execution_count": 5,
   "id": "aabc039e-ee3a-44f3-8731-f4192ab52b21",
   "metadata": {},
   "outputs": [],
   "source": [
    "if not os.path.exists(log_file_path):\n",
    "    with open(log_file_path, mode = \"w\", newline = \"\") as csvfile:\n",
    "        writer = csv.writer(csvfile)\n",
    "        writer.writerow([\"filePath\", \"md5\"])"
   ]
  },
  {
   "cell_type": "code",
   "execution_count": 6,
   "id": "d6512dd9-36c2-4284-813c-1ebad8025092",
   "metadata": {},
   "outputs": [],
   "source": [
    "exist_log_indexes = pd.read_csv(log_file_path).index\n",
    "start_i = 0 if len(exist_log_indexes) == 0 else exist_log_indexes[-1] + 1"
   ]
  },
  {
   "cell_type": "markdown",
   "id": "374c4ed2-43c7-4388-9843-fba878e2ce05",
   "metadata": {},
   "source": [
    "# Inspect directory"
   ]
  },
  {
   "cell_type": "code",
   "execution_count": 7,
   "id": "731531a8-a3d2-4680-90ae-5f9a385a9e08",
   "metadata": {},
   "outputs": [
    {
     "name": "stderr",
     "output_type": "stream",
     "text": [
      "0it [00:00, ?it/s]\n"
     ]
    }
   ],
   "source": [
    "with open(log_file_path, mode = \"a\", newline = \"\") as csvfile:\n",
    "    writer = csv.writer(csvfile)\n",
    "    for i in tqdm(range(start_i, n_src_file)):\n",
    "        src_file_path = src_file_paths[i]\n",
    "        if os.path.isfile(src_file_path):\n",
    "            hash_data = checksum(src_file_path)\n",
    "            writer.writerow([src_file_path, hash_data])"
   ]
  },
  {
   "cell_type": "code",
   "execution_count": null,
   "id": "9cb65a24-310d-4179-88d3-ba18eaa97524",
   "metadata": {},
   "outputs": [],
   "source": []
  },
  {
   "cell_type": "code",
   "execution_count": null,
   "id": "a543db5b-55eb-4c09-8c94-f18165ca64d4",
   "metadata": {},
   "outputs": [],
   "source": []
  }
 ],
 "metadata": {
  "kernelspec": {
   "display_name": "seojin",
   "language": "python",
   "name": "seojin"
  },
  "language_info": {
   "codemirror_mode": {
    "name": "ipython",
    "version": 3
   },
   "file_extension": ".py",
   "mimetype": "text/x-python",
   "name": "python",
   "nbconvert_exporter": "python",
   "pygments_lexer": "ipython3",
   "version": "3.9.6"
  }
 },
 "nbformat": 4,
 "nbformat_minor": 5
}
