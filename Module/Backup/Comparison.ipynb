{
 "cells": [
  {
   "cell_type": "markdown",
   "id": "2c6c540c-5568-43ef-8aa9-85b851fa838b",
   "metadata": {},
   "source": [
    "# Common Libraries"
   ]
  },
  {
   "cell_type": "code",
   "execution_count": 10,
   "id": "8958aed5-3041-4992-8f0c-efd2fab5e59f",
   "metadata": {},
   "outputs": [],
   "source": [
    "import os\n",
    "from glob import glob\n",
    "import pandas as pd"
   ]
  },
  {
   "cell_type": "markdown",
   "id": "b3d195c7-14fb-45cc-a1bd-ddce8c343702",
   "metadata": {},
   "source": [
    "# Load data"
   ]
  },
  {
   "cell_type": "code",
   "execution_count": 11,
   "id": "ad5f43a9-0505-43ea-a2e6-65b3f423e807",
   "metadata": {},
   "outputs": [],
   "source": [
    "result = [pd.read_csv(path) for path in glob(\"/home/seojin/temp/*\")]"
   ]
  },
  {
   "cell_type": "code",
   "execution_count": 12,
   "id": "e6046cd8-d49a-45e7-9d48-178d8c6d02ff",
   "metadata": {},
   "outputs": [],
   "source": [
    "result = pd.concat(result, axis = 0)"
   ]
  },
  {
   "cell_type": "markdown",
   "id": "d2ef10ac-240e-4ee4-bcf8-ba857e1937fd",
   "metadata": {},
   "source": [
    "# Filtering"
   ]
  },
  {
   "cell_type": "code",
   "execution_count": 13,
   "id": "376e2bcd-c709-4c99-aeb2-267e721c1c62",
   "metadata": {},
   "outputs": [],
   "source": [
    "filtered_result = result[(result[\"result\"] != \"Good\") & (result[\"result\"] != \"destination file already exists\")]"
   ]
  },
  {
   "cell_type": "markdown",
   "id": "0e5a6bf6-9b9b-46b4-994b-9c5e3ff09224",
   "metadata": {},
   "source": [
    "# Printing result"
   ]
  },
  {
   "cell_type": "code",
   "execution_count": 14,
   "id": "aea27f8a-cdf9-4086-b307-73d4045ae77f",
   "metadata": {},
   "outputs": [],
   "source": [
    "for index, row in filtered_result.iterrows():\n",
    "    src = row[\"src_path\"]\n",
    "    dst = row[\"dst_path\"]\n",
    "    cmp = row[\"result\"]\n",
    "    print(f\"src: {src}\")\n",
    "    print(f\"dst: {dst}\")\n",
    "    print(f\"cmp: {cmp}\")"
   ]
  },
  {
   "cell_type": "code",
   "execution_count": 6,
   "id": "6d486cfe-8968-4ca4-9f8a-60b23e3c608d",
   "metadata": {},
   "outputs": [
    {
     "name": "stdout",
     "output_type": "stream",
     "text": [
      "cp /mnt/tmp/ANYMEDI/20190212_LHJ_ANYMEDI02/HEAD_PI_CNIR_IBS_20190212_140215_676000/REST_MB3_2ISO_300_0002/20190212_LHJ.MR.HEAD_PI_CNIR_IBS.0002.0029.2019.02.12.14.19.31.470306.1183619107.IMA /mnt/tmp2/ANYMEDI/20190212_LHJ_ANYMEDI02/HEAD_PI_CNIR_IBS_20190212_140215_676000/REST_MB3_2ISO_300_0002/20190212_LHJ.MR.HEAD_PI_CNIR_IBS.0002.0029.2019.02.12.14.19.31.470306.1183619107.IMA\n"
     ]
    }
   ],
   "source": [
    "print(f\"cp {src} {dst}\")"
   ]
  },
  {
   "cell_type": "code",
   "execution_count": 8,
   "id": "24702fc8-371b-4146-820d-a0563c4cebf5",
   "metadata": {},
   "outputs": [],
   "source": [
    "import filecmp"
   ]
  },
  {
   "cell_type": "code",
   "execution_count": 9,
   "id": "b383b97d-8ad8-4d73-b23a-2fb8f648015a",
   "metadata": {},
   "outputs": [
    {
     "data": {
      "text/plain": [
       "True"
      ]
     },
     "execution_count": 9,
     "metadata": {},
     "output_type": "execute_result"
    }
   ],
   "source": [
    "filecmp.cmp(src, dst, shallow=False)"
   ]
  },
  {
   "cell_type": "code",
   "execution_count": null,
   "id": "13388df3-174b-45ef-a7c2-796445a960cf",
   "metadata": {},
   "outputs": [],
   "source": []
  }
 ],
 "metadata": {
  "kernelspec": {
   "display_name": "“DP”",
   "language": "python",
   "name": "dp"
  },
  "language_info": {
   "codemirror_mode": {
    "name": "ipython",
    "version": 3
   },
   "file_extension": ".py",
   "mimetype": "text/x-python",
   "name": "python",
   "nbconvert_exporter": "python",
   "pygments_lexer": "ipython3",
   "version": "3.10.9"
  }
 },
 "nbformat": 4,
 "nbformat_minor": 5
}
