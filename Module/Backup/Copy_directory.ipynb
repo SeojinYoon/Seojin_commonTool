{
 "cells": [
  {
   "cell_type": "markdown",
   "id": "868316ad-1fdf-4df2-a7c8-2e5db27fd96f",
   "metadata": {},
   "source": [
    "- sudo chown -R $USER:$USER /mnt/tmp\n",
    "- sudo chown -R $USER:$USER /mnt/tmp2"
   ]
  },
  {
   "cell_type": "markdown",
   "id": "5f056c00-a036-4488-89e2-6435091a5571",
   "metadata": {},
   "source": [
    "# Common Libraries"
   ]
  },
  {
   "cell_type": "code",
   "execution_count": 1,
   "id": "00256a2a-0ac8-42f7-88f7-2d951e030a98",
   "metadata": {},
   "outputs": [],
   "source": [
    "import os\n",
    "import sys\n",
    "import numpy as np\n",
    "import pandas as pd\n",
    "from pathlib import Path\n",
    "from glob import glob\n",
    "from collections import Counter"
   ]
  },
  {
   "cell_type": "markdown",
   "id": "455eb9b1-05d3-4fc8-9d6c-801c47d8a97a",
   "metadata": {},
   "source": [
    "# Custom Libraries"
   ]
  },
  {
   "cell_type": "code",
   "execution_count": 2,
   "id": "2f293a92-4305-47e7-af74-8568ced4b0d4",
   "metadata": {},
   "outputs": [],
   "source": [
    "sys.path.append(\"/home/seojin/Seojin_commonTool/Module\")\n",
    "\n",
    "from sj_file_system import copy_directory_carefully"
   ]
  },
  {
   "cell_type": "markdown",
   "id": "9fcbf0a9-b9cf-4e23-b8b9-3b4f1937478a",
   "metadata": {},
   "source": [
    "# Paths"
   ]
  },
  {
   "cell_type": "code",
   "execution_count": 3,
   "id": "9ed15c13-b133-4ee2-8bed-08a656413292",
   "metadata": {},
   "outputs": [],
   "source": [
    "src_directory = \"/mnt/tmp\" \n",
    "dst_directory = \"/mnt/tmp2\""
   ]
  },
  {
   "cell_type": "markdown",
   "id": "7b608bdd-c3e4-42d6-90cf-3abe0b956c7f",
   "metadata": {},
   "source": [
    "# Filtering"
   ]
  },
  {
   "cell_type": "code",
   "execution_count": 4,
   "id": "be5fb416-2542-4596-8240-3426c7b8cf51",
   "metadata": {},
   "outputs": [],
   "source": [
    "src_file_paths = np.array(glob(src_directory + \"/*\"))\n",
    "src_file_paths = src_file_paths[[\"lost+found\" not in path for path in src_file_paths]]"
   ]
  },
  {
   "cell_type": "markdown",
   "id": "dadfe061-1863-406b-b09e-1ad1d3fac2b5",
   "metadata": {},
   "source": [
    "# Branch - directory, file"
   ]
  },
  {
   "cell_type": "code",
   "execution_count": 13,
   "id": "89c6a983-80a0-4c67-a868-a5277fe5d2a5",
   "metadata": {},
   "outputs": [],
   "source": [
    "is_directory = [os.path.isdir(path) for path in src_file_paths]\n",
    "directory_paths = src_file_paths[is_directory]\n",
    "directory_paths = list(directory_paths)\n",
    "file_paths = src_file_paths[np.logical_not(is_directory)]"
   ]
  },
  {
   "cell_type": "markdown",
   "id": "e678a31d-2347-42ba-a10f-0ee1911a38d4",
   "metadata": {},
   "source": [
    "# Copy sub-directory"
   ]
  },
  {
   "cell_type": "code",
   "execution_count": null,
   "id": "4e8c40e6-d025-4ecc-a629-d4af1f98d3c3",
   "metadata": {},
   "outputs": [
    {
     "name": "stderr",
     "output_type": "stream",
     "text": [
      " 31%|███       | 19803/64834 [14:36<77:51:14,  6.22s/it]"
     ]
    }
   ],
   "source": [
    "for directory_path in directory_paths:\n",
    "    dir_name = Path(directory_path).name\n",
    "    sub_directory_path = os.path.join(dst_directory, dir_name)\n",
    "    result = copy_directory_carefully(src_dir_path = directory_path, \n",
    "                                      dst_dir_path = sub_directory_path, \n",
    "                                      is_print = False, \n",
    "                                      log_file_path = f\"/home/seojin/temp/{dir_name}_log.csv\")"
   ]
  },
  {
   "cell_type": "markdown",
   "id": "8ea478ea-cc88-48eb-8a67-a2c06fbf5f00",
   "metadata": {},
   "source": [
    "# Copy files"
   ]
  },
  {
   "cell_type": "code",
   "execution_count": 53,
   "id": "260a2078-c4a2-44c2-b04f-01b816a09f3e",
   "metadata": {},
   "outputs": [
    {
     "name": "stdout",
     "output_type": "stream",
     "text": [
      "\u001b[1mcp /mnt/ext1/seojin/testA/aa.txt /mnt/ext1/seojin/testB/aa.txt\u001b[0m\n"
     ]
    },
    {
     "data": {
      "text/html": [
       "<div>\n",
       "<style scoped>\n",
       "    .dataframe tbody tr th:only-of-type {\n",
       "        vertical-align: middle;\n",
       "    }\n",
       "\n",
       "    .dataframe tbody tr th {\n",
       "        vertical-align: top;\n",
       "    }\n",
       "\n",
       "    .dataframe thead th {\n",
       "        text-align: right;\n",
       "    }\n",
       "</style>\n",
       "<table border=\"1\" class=\"dataframe\">\n",
       "  <thead>\n",
       "    <tr style=\"text-align: right;\">\n",
       "      <th></th>\n",
       "      <th>src_path</th>\n",
       "      <th>dst_path</th>\n",
       "      <th>result</th>\n",
       "    </tr>\n",
       "  </thead>\n",
       "  <tbody>\n",
       "    <tr>\n",
       "      <th>0</th>\n",
       "      <td>/mnt/ext1/seojin/testA/aa.txt</td>\n",
       "      <td>/mnt/ext1/seojin/testB/aa.txt</td>\n",
       "      <td>Good</td>\n",
       "    </tr>\n",
       "  </tbody>\n",
       "</table>\n",
       "</div>"
      ],
      "text/plain": [
       "                        src_path                       dst_path result\n",
       "0  /mnt/ext1/seojin/testA/aa.txt  /mnt/ext1/seojin/testB/aa.txt   Good"
      ]
     },
     "execution_count": 53,
     "metadata": {},
     "output_type": "execute_result"
    }
   ],
   "source": [
    "file_copy_result = copy_files(list(file_paths), dst_directory)"
   ]
  },
  {
   "cell_type": "code",
   "execution_count": null,
   "id": "4e421614-a825-48e8-98ec-9331e4693afc",
   "metadata": {},
   "outputs": [],
   "source": [
    "print(1)"
   ]
  },
  {
   "cell_type": "code",
   "execution_count": null,
   "id": "8ab8c6cb-e999-43c3-8369-115902c88e46",
   "metadata": {},
   "outputs": [],
   "source": []
  }
 ],
 "metadata": {
  "kernelspec": {
   "display_name": "seojin",
   "language": "python",
   "name": "seojin"
  },
  "language_info": {
   "codemirror_mode": {
    "name": "ipython",
    "version": 3
   },
   "file_extension": ".py",
   "mimetype": "text/x-python",
   "name": "python",
   "nbconvert_exporter": "python",
   "pygments_lexer": "ipython3",
   "version": "3.9.6"
  }
 },
 "nbformat": 4,
 "nbformat_minor": 5
}
