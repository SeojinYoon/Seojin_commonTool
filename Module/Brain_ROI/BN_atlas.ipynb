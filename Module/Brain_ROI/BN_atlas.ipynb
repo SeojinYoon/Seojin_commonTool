{
 "cells": [
  {
   "cell_type": "markdown",
   "id": "9953e83a-ea96-40a3-8166-df12cf3a639a",
   "metadata": {},
   "source": [
    "# Common Libraries"
   ]
  },
  {
   "cell_type": "code",
   "execution_count": 1,
   "id": "55804cbf-8746-4f43-a226-244ba120f658",
   "metadata": {},
   "outputs": [],
   "source": [
    "import gzip\n",
    "import re\n",
    "import xml.etree.ElementTree as ET\n",
    "import pandas as pd"
   ]
  },
  {
   "cell_type": "markdown",
   "id": "26b0247e-c691-429f-8b98-ccc3f3644297",
   "metadata": {},
   "source": [
    "# Params"
   ]
  },
  {
   "cell_type": "code",
   "execution_count": 2,
   "id": "c8c26587-6cbb-466a-b29b-0393d7ef6569",
   "metadata": {},
   "outputs": [],
   "source": [
    "brodman_nifti_path = \"/usr/local/afni/abin/BN_Atlas_246_1mm.nii.gz\"\n",
    "save_xml_data_path = \"/home/seojin/Seojin_commonTool/Module/Brain_ROI/metadata.xml\"\n",
    "\n",
    "is_save_xml = True\n",
    "save_info_path = \"/home/seojin/Seojin_commonTool/Module/Brain_ROI/BN_Atlas_246_1mm_info.csv\""
   ]
  },
  {
   "cell_type": "markdown",
   "id": "f17c6343-bb8e-4238-8b25-de4b342eb84b",
   "metadata": {},
   "source": [
    "# Load data"
   ]
  },
  {
   "cell_type": "code",
   "execution_count": 3,
   "id": "3ba8ab7e-a113-4319-85bd-75728e685aae",
   "metadata": {},
   "outputs": [],
   "source": [
    "with gzip.open(brodman_nifti_path, 'rt', errors='ignore') as f:\n",
    "    content = f.read()"
   ]
  },
  {
   "cell_type": "markdown",
   "id": "dfda4dbb-cf66-48d7-8e77-7774268b26ad",
   "metadata": {},
   "source": [
    "# Filtering meta data"
   ]
  },
  {
   "cell_type": "code",
   "execution_count": 4,
   "id": "6cf2eece-5064-4858-9827-4103c47ea8d9",
   "metadata": {},
   "outputs": [],
   "source": [
    "metadata = re.findall(r'<AFNI_attributes.*?</AFNI_attributes>', content, re.DOTALL)[0]\n",
    "\n",
    "if is_save_xml:\n",
    "    with open(save_xml_data_path, 'w') as xml_file:\n",
    "        xml_file.write(metadata)"
   ]
  },
  {
   "cell_type": "markdown",
   "id": "c064c084-0a07-449b-9fe6-ed5fb7f7ee53",
   "metadata": {},
   "source": [
    "# Read meta data"
   ]
  },
  {
   "cell_type": "code",
   "execution_count": 54,
   "id": "fb2cefc7-aa11-4d00-86e7-f399dc72592f",
   "metadata": {},
   "outputs": [],
   "source": [
    "root = ET.fromstring(metadata)\n",
    "value_label_dtable = None\n",
    "for atr in root.findall(\".//AFNI_atr\"):\n",
    "    if atr.get('atr_name') == \"ATLAS_LABEL_TABLE\":\n",
    "        value_label_dtable = atr.text"
   ]
  },
  {
   "cell_type": "code",
   "execution_count": 66,
   "id": "e194c194-2ce3-4ccb-b0cf-bb399548ad91",
   "metadata": {},
   "outputs": [],
   "source": [
    "pattern_corrected = r'<ATLAS_POINT.*?/>'\n",
    "matches_corrected = re.findall(pattern_corrected, value_label_dtable, re.DOTALL)\n",
    "matches_corrected = [e.replace(\"\\n\", \"\") for e in matches_corrected]"
   ]
  },
  {
   "cell_type": "code",
   "execution_count": 67,
   "id": "6426a7c6-25fc-4f70-8212-2e5ab72f0804",
   "metadata": {},
   "outputs": [],
   "source": [
    "pattern_struct_val = r'STRUCT=\"([^\"]+)\" VAL=\"([^\"]+)\"'"
   ]
  },
  {
   "cell_type": "code",
   "execution_count": 68,
   "id": "50e08a24-87ec-41c3-9237-46a378ab7754",
   "metadata": {},
   "outputs": [
    {
     "name": "stdout",
     "output_type": "stream",
     "text": [
      "39 <ATLAS_POINT data_type=\"atlas_point\" STRUCT=\"A22r_left\" V\" \"AL=\"79\" OKEY=\"79\" GYoAR=\"0\" COG=\"54.9048 3.32622 -10.373\"/>\n",
      "47 <ATLAS_POINT data_type=\"atlas_point\" STRUCT=\"A20\" \"il_left\" VAL=\"95\" OKEY=\"95\" GYoAR=\"0\" COG=\"55.8173 15.5977 -27.531\"/>\n",
      "93 <ATLAS_POINT data_type=\"atlas_point\" STRUCT=\"cLinG_le\" \"ft\" VAL=\"189\" OKEY=\"189\" GYoAR=\"0\" COG=\"10.6905 82.2577 -10.7728\"/>\n",
      "139 <ATLAS_POINT data_type=\"atlas_point\" STRUCT=\"A44op_right\" \"\" VAL=\"38\" OKEY=\"38\" GYoAR=\"0\" COG=\"-41.9451 -21.8587 3.4609\"/>\n",
      "200 <ATLAS_POINT data_type=\"atlas_point\" STRUCT=\"A1/2/3tr\" \"u_right\" VAL=\"162\" OKEY=\"162\" GYoAR=\"0\" COG=\"-20.0271 32.6093 69.4004\"/>\n"
     ]
    }
   ],
   "source": [
    "for i, row in enumerate(matches_corrected):\n",
    "    try:\n",
    "        pattern_matched = re.findall(pattern_struct_val, row)[0]\n",
    "    except:\n",
    "        print(i, row)"
   ]
  },
  {
   "cell_type": "code",
   "execution_count": 73,
   "id": "65992a37-857f-420d-8f00-420c0ffabfcf",
   "metadata": {},
   "outputs": [],
   "source": [
    "matches_corrected[39] = '<ATLAS_POINT data_type=\"atlas_point\" STRUCT=\"A22r_left\" VAL=\"79\" OKEY=\"79\" GYoAR=\"0\" COG=\"54.9048 3.32622 -10.373\"/>'\n",
    "matches_corrected[47] = '<ATLAS_POINT data_type=\"atlas_point\" STRUCT=\"A20il_left\" VAL=\"95\" OKEY=\"95\" GYoAR=\"0\" COG=\"55.8173 15.5977 -27.531\"/>'\n",
    "matches_corrected[93] = '<ATLAS_POINT data_type=\"atlas_point\" STRUCT=\"cLinG_left\" VAL=\"189\" OKEY=\"189\" GYoAR=\"0\" COG=\"10.6905 82.2577 -10.7728\"/>'\n",
    "matches_corrected[139] = '<ATLAS_POINT data_type=\"atlas_point\" STRUCT=\"A44op_right\" VAL=\"38\" OKEY=\"38\" GYoAR=\"0\" COG=\"-41.9451 -21.8587 3.4609\"/>'\n",
    "matches_corrected[200] = '<ATLAS_POINT data_type=\"atlas_point\" STRUCT=\"A1/2/3tru_right\" VAL=\"162\" OKEY=\"162\" GYoAR=\"0\" COG=\"-20.0271 32.6093 69.4004\"/>'\n",
    "matches_corrected[-20] = '<ATLAS_POINT data_type=\"atlas_point\" STRUCT=\"msOccG_right\" VAL=\"208\" OKEY=\"208\" GYoAR=\"0\" COG=\"-16.3099 85.1307 34.2996\"/>'\n",
    "matches_corrected[-12] = '<ATLAS_POINT data_type=\"atlas_point\" STRUCT=\"NAC_right\" VAL=\"224\" OKEY=\"224\" GYoAR=\"0\" COG=\"-14.5199 -7.71109 -8.82537\"/>'\n"
   ]
  },
  {
   "cell_type": "code",
   "execution_count": 75,
   "id": "bf18bd9a-1b1b-402c-94f4-b206a58efe90",
   "metadata": {},
   "outputs": [],
   "source": [
    "meta_data_mapping = [re.findall(pattern_struct_val, row)[0] for row in matches_corrected]"
   ]
  },
  {
   "cell_type": "code",
   "execution_count": 79,
   "id": "b99b6181-29b0-4096-b6fc-37365ea3ac02",
   "metadata": {},
   "outputs": [],
   "source": [
    "meta_data_info = {}\n",
    "for description, value in meta_data_mapping:\n",
    "    meta_data_info[int(value)] = description"
   ]
  },
  {
   "cell_type": "markdown",
   "id": "ca380625-8ea6-4a96-9281-97af789299c6",
   "metadata": {},
   "source": [
    "# Save data"
   ]
  },
  {
   "cell_type": "code",
   "execution_count": 88,
   "id": "a9968a33-e436-49b6-90d6-b317820e29d4",
   "metadata": {},
   "outputs": [],
   "source": [
    "save_info = pd.DataFrame({ \"label\" : list(meta_data_info.keys()), \"description\" : list(meta_data_info.values()) })\n",
    "save_info.to_csv(save_info_path, index=False)"
   ]
  },
  {
   "cell_type": "code",
   "execution_count": 89,
   "id": "260a0b58-f640-4023-9d81-bdc2e02f7167",
   "metadata": {},
   "outputs": [
    {
     "data": {
      "text/plain": [
       "'/home/seojin/Seojin_commonTool/Module/Brain_ROI/BN_Atlas_246_1mm_info.csv'"
      ]
     },
     "execution_count": 89,
     "metadata": {},
     "output_type": "execute_result"
    }
   ],
   "source": [
    "save_info_path"
   ]
  },
  {
   "cell_type": "code",
   "execution_count": null,
   "id": "fde2a57c-01a7-4427-91c7-1ddfbbbaea7a",
   "metadata": {},
   "outputs": [],
   "source": []
  }
 ],
 "metadata": {
  "kernelspec": {
   "display_name": "surfVis",
   "language": "python",
   "name": "surfvis"
  },
  "language_info": {
   "codemirror_mode": {
    "name": "ipython",
    "version": 3
   },
   "file_extension": ".py",
   "mimetype": "text/x-python",
   "name": "python",
   "nbconvert_exporter": "python",
   "pygments_lexer": "ipython3",
   "version": "3.10.16"
  }
 },
 "nbformat": 4,
 "nbformat_minor": 5
}
