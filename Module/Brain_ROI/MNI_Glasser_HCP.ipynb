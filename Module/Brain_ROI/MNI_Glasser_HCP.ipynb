{
 "cells": [
  {
   "cell_type": "markdown",
   "id": "9953e83a-ea96-40a3-8166-df12cf3a639a",
   "metadata": {},
   "source": [
    "# Common Libraries"
   ]
  },
  {
   "cell_type": "code",
   "execution_count": 2,
   "id": "55804cbf-8746-4f43-a226-244ba120f658",
   "metadata": {},
   "outputs": [],
   "source": [
    "import gzip\n",
    "import re\n",
    "import xml.etree.ElementTree as ET\n",
    "import pandas as pd"
   ]
  },
  {
   "cell_type": "markdown",
   "id": "26b0247e-c691-429f-8b98-ccc3f3644297",
   "metadata": {},
   "source": [
    "# Params"
   ]
  },
  {
   "cell_type": "code",
   "execution_count": 3,
   "id": "c8c26587-6cbb-466a-b29b-0393d7ef6569",
   "metadata": {},
   "outputs": [],
   "source": [
    "brodman_nifti_path = \"/usr/local/afni/abin/MNI_Glasser_HCP_v1.0.nii.gz\"\n",
    "save_xml_data_path = \"/home/seojin/Seojin_commonTool/Module/Brain_ROI/metadata.xml\"\n",
    "\n",
    "is_save_xml = True\n",
    "save_info_path = \"/home/seojin/Seojin_commonTool/Module/Brain_ROI/MNI_Glasser_HCP_v1.0_info.csv\""
   ]
  },
  {
   "cell_type": "markdown",
   "id": "f17c6343-bb8e-4238-8b25-de4b342eb84b",
   "metadata": {},
   "source": [
    "# Load data"
   ]
  },
  {
   "cell_type": "code",
   "execution_count": 4,
   "id": "3ba8ab7e-a113-4319-85bd-75728e685aae",
   "metadata": {},
   "outputs": [],
   "source": [
    "with gzip.open(brodman_nifti_path, 'rt', errors='ignore') as f:\n",
    "    content = f.read()"
   ]
  },
  {
   "cell_type": "markdown",
   "id": "dfda4dbb-cf66-48d7-8e77-7774268b26ad",
   "metadata": {},
   "source": [
    "# Filtering meta data"
   ]
  },
  {
   "cell_type": "code",
   "execution_count": 5,
   "id": "6cf2eece-5064-4858-9827-4103c47ea8d9",
   "metadata": {},
   "outputs": [],
   "source": [
    "metadata = re.findall(r'<AFNI_attributes.*?</AFNI_attributes>', content, re.DOTALL)[0]\n",
    "\n",
    "if is_save_xml:\n",
    "    with open(save_xml_data_path, 'w') as xml_file:\n",
    "        xml_file.write(metadata)"
   ]
  },
  {
   "cell_type": "markdown",
   "id": "c064c084-0a07-449b-9fe6-ed5fb7f7ee53",
   "metadata": {},
   "source": [
    "# Read meta data"
   ]
  },
  {
   "cell_type": "code",
   "execution_count": 6,
   "id": "fb2cefc7-aa11-4d00-86e7-f399dc72592f",
   "metadata": {},
   "outputs": [],
   "source": [
    "root = ET.fromstring(metadata)\n",
    "value_label_dtable = None\n",
    "for atr in root.findall(\".//AFNI_atr\"):\n",
    "    if atr.get('atr_name') == \"ATLAS_LABEL_TABLE\":\n",
    "        value_label_dtable = atr.text"
   ]
  },
  {
   "cell_type": "code",
   "execution_count": 7,
   "id": "e194c194-2ce3-4ccb-b0cf-bb399548ad91",
   "metadata": {},
   "outputs": [],
   "source": [
    "pattern_corrected = r'<ATLAS_POINT.*?/>'\n",
    "matches_corrected = re.findall(pattern_corrected, value_label_dtable, re.DOTALL)\n",
    "matches_corrected = [e.replace(\"\\n\", \"\") for e in matches_corrected]"
   ]
  },
  {
   "cell_type": "code",
   "execution_count": 19,
   "id": "6426a7c6-25fc-4f70-8212-2e5ab72f0804",
   "metadata": {},
   "outputs": [],
   "source": [
    "pattern_struct_val = r'STRUCT=\"([^\"]+)\"  VAL=\"([^\"]+)\"'"
   ]
  },
  {
   "cell_type": "code",
   "execution_count": 27,
   "id": "50e08a24-87ec-41c3-9237-46a378ab7754",
   "metadata": {},
   "outputs": [],
   "source": [
    "for i, row in enumerate(matches_corrected):\n",
    "    try:\n",
    "        pattern_matched = re.findall(pattern_struct_val, row)[0]\n",
    "    except:\n",
    "        print(i, row)"
   ]
  },
  {
   "cell_type": "code",
   "execution_count": 26,
   "id": "ce08cd46-84a4-48dc-ae44-002255fb5418",
   "metadata": {},
   "outputs": [],
   "source": [
    "matches_corrected[62] = '<ATLAS_POINT  data_type=\"atlas_point\"   STRUCT=\"L_Area_23d\"  VAL=\"032\"  OKEY=\"032\"  GYoAR=\"0\"  COG = \"3.133330 17.500000 39.000000\"  SB_LABEL=\"L_Area_23d\" />'\n",
    "matches_corrected[79] = '<ATLAS_POINT  data_type=\"atlas_point\"   STRUCT=\"R_Dorsal_Area_24d\"  VAL=\"1040\"  OKEY=\"1040\"  GYoAR=\"0\"  COG = \"-8.333340 16.222200 51.777800\"  SB_LABEL=\"R_Dorsal_Area_24d\" />'\n",
    "matches_corrected[94] = '<ATLAS_POINT  data_type=\"atlas_point\"   STRUCT=\"R_Area_Lateral_IntraParietal_ventral\"  VAL=\"1048\"  OKEY=\"1048\"  GYoAR=\"0\"  COG = \"-24.769200 56.307700 53.230800\"  SB_LABEL=\"R_Area_Lateral_IntraParietal_ventral\" />'\n",
    "matches_corrected[99] = '<ATLAS_POINT  data_type=\"atlas_point\"   STRUCT=\"L_Area_1\"  VAL=\"051\"  OKEY=\"051\"  GYoAR=\"0\"  COG = \"51.476200 23.952400 59.142900\"  SB_LABEL=\"L_Area_1\" />'\n",
    "matches_corrected[105] = '<ATLAS_POINT  data_type=\"atlas_point\"   STRUCT=\"L_Dorsal_area_6\"  VAL=\"054\"  OKEY=\"054\"  GYoAR=\"0\"  COG = \"36.074100 15.666700 67.518500\"  SB_LABEL=\"L_Dorsal_area_6\" />'\n",
    "matches_corrected[144] = '<ATLAS_POINT  data_type=\"atlas_point\"   STRUCT=\"L_Area_44\"  VAL=\"074\"  OKEY=\"074\"  GYoAR=\"0\"  COG = \"56.533300 -16.600000 12.500000\"  SB_LABEL=\"L_Area_44\" />'\n",
    "matches_corrected[176] = '<ATLAS_POINT  data_type=\"atlas_point\"   STRUCT=\"L_Area_11l\"  VAL=\"091\"  OKEY=\"091\"  GYoAR=\"0\"  COG = \"28.000000 -47.083300 -13.000000\"  SB_LABEL=\"L_Area_11l\" />'\n",
    "matches_corrected[214] = '<ATLAS_POINT  data_type=\"atlas_point\"   STRUCT=\"L_Piriform_Cortex\"  VAL=\"110\"  OKEY=\"110\"  GYoAR=\"0\"  COG = \"32.000000 -7.250000 -16.500000\"  SB_LABEL=\"L_Piriform_Cortex\" />'\n",
    "matches_corrected[219] = '<ATLAS_POINT  data_type=\"atlas_point\"   STRUCT=\"R_Anterior_Agranular_Insula_Complex\"  VAL=\"1112\"  OKEY=\"1112\"  GYoAR=\"0\"  COG = \"-30.871000 -17.774200 -13.129000\"  SB_LABEL=\"R_Anterior_Agranular_Insula_Complex\" />'\n",
    "matches_corrected[287] = '<ATLAS_POINT  data_type=\"atlas_point\"   STRUCT=\"R_Area_IntraParietal_0\"  VAL=\"1146\"  OKEY=\"1146\"  GYoAR=\"0\"  COG = \"-34.166700 75.000000 27.233300\"  SB_LABEL=\"R_Area_IntraParietal_0\" />'\n",
    "matches_corrected[336] = '<ATLAS_POINT  data_type=\"atlas_point\"   STRUCT=\"L_Area_posterior_47r\"  VAL=\"171\"  OKEY=\"171\"  GYoAR=\"0\"  COG = \"41.500000 -42.384600 -2.384610\"  SB_LABEL=\"L_Area_posterior_47r\" />'"
   ]
  },
  {
   "cell_type": "code",
   "execution_count": 28,
   "id": "bf18bd9a-1b1b-402c-94f4-b206a58efe90",
   "metadata": {},
   "outputs": [],
   "source": [
    "meta_data_mapping = [re.findall(pattern_struct_val, row)[0] for row in matches_corrected]"
   ]
  },
  {
   "cell_type": "code",
   "execution_count": 29,
   "id": "b99b6181-29b0-4096-b6fc-37365ea3ac02",
   "metadata": {},
   "outputs": [],
   "source": [
    "meta_data_info = {}\n",
    "for description, value in meta_data_mapping:\n",
    "    meta_data_info[int(value)] = description"
   ]
  },
  {
   "cell_type": "markdown",
   "id": "ca380625-8ea6-4a96-9281-97af789299c6",
   "metadata": {},
   "source": [
    "# Save data"
   ]
  },
  {
   "cell_type": "code",
   "execution_count": 31,
   "id": "a9968a33-e436-49b6-90d6-b317820e29d4",
   "metadata": {},
   "outputs": [],
   "source": [
    "save_info = pd.DataFrame({ \"label\" : list(meta_data_info.keys()), \"description\" : list(meta_data_info.values()) })\n",
    "save_info.to_csv(save_info_path, index=False)"
   ]
  },
  {
   "cell_type": "code",
   "execution_count": 35,
   "id": "260a0b58-f640-4023-9d81-bdc2e02f7167",
   "metadata": {},
   "outputs": [
    {
     "data": {
      "text/plain": [
       "'/home/seojin/Seojin_commonTool/Module/Brain_ROI/MNI_Glasser_HCP_v1.0_info.csv'"
      ]
     },
     "execution_count": 35,
     "metadata": {},
     "output_type": "execute_result"
    }
   ],
   "source": [
    "save_info_path"
   ]
  },
  {
   "cell_type": "code",
   "execution_count": null,
   "id": "fde2a57c-01a7-4427-91c7-1ddfbbbaea7a",
   "metadata": {},
   "outputs": [],
   "source": []
  }
 ],
 "metadata": {
  "kernelspec": {
   "display_name": "surfVis",
   "language": "python",
   "name": "surfvis"
  },
  "language_info": {
   "codemirror_mode": {
    "name": "ipython",
    "version": 3
   },
   "file_extension": ".py",
   "mimetype": "text/x-python",
   "name": "python",
   "nbconvert_exporter": "python",
   "pygments_lexer": "ipython3",
   "version": "3.10.16"
  }
 },
 "nbformat": 4,
 "nbformat_minor": 5
}
